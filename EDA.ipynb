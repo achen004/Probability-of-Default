{
 "cells": [
  {
   "cell_type": "code",
   "execution_count": 1,
   "id": "8d1c2225",
   "metadata": {},
   "outputs": [],
   "source": [
    "import datetime\n",
    "import pandas as pd\n",
    "import numpy as np\n",
    "import seaborn as sns \n",
    "import matplotlib.pyplot as plt "
   ]
  },
  {
   "cell_type": "code",
   "execution_count": 30,
   "id": "2d32554f",
   "metadata": {},
   "outputs": [],
   "source": [
    "train = pd.read_csv(\"/Users/khevnaparikh/Desktop/Finance/Probability-of-Default-/train.csv\")"
   ]
  },
  {
   "cell_type": "code",
   "execution_count": 3,
   "id": "1afab9ee",
   "metadata": {},
   "outputs": [],
   "source": [
    "train[\"cf_to_debt\"] = train.cf_operations / (train.debt_st + train.debt_lt)\n",
    "train[\"debt_ratio\"] = (train.debt_st + train.debt_lt) / train.asst_tot\n",
    "train['ebitda_ta'] = train.ebitda / train.asst_tot\n",
    "train['fin_lev'] = train.roa - train.roe\n",
    "train['wc_ta'] = train.wc_net / train.asst_tot"
   ]
  },
  {
   "cell_type": "code",
   "execution_count": 48,
   "id": "3cf5fd2f",
   "metadata": {},
   "outputs": [
    {
     "data": {
      "text/html": [
       "<div>\n",
       "<style scoped>\n",
       "    .dataframe tbody tr th:only-of-type {\n",
       "        vertical-align: middle;\n",
       "    }\n",
       "\n",
       "    .dataframe tbody tr th {\n",
       "        vertical-align: top;\n",
       "    }\n",
       "\n",
       "    .dataframe thead th {\n",
       "        text-align: right;\n",
       "    }\n",
       "</style>\n",
       "<table border=\"1\" class=\"dataframe\">\n",
       "  <thead>\n",
       "    <tr style=\"text-align: right;\">\n",
       "      <th></th>\n",
       "      <th>Unnamed: 0</th>\n",
       "      <th>id</th>\n",
       "      <th>stmt_date</th>\n",
       "      <th>HQ_city</th>\n",
       "      <th>legal_struct</th>\n",
       "      <th>ateco_sector</th>\n",
       "      <th>def_date</th>\n",
       "      <th>fs_year</th>\n",
       "      <th>asst_intang_fixed</th>\n",
       "      <th>asst_tang_fixed</th>\n",
       "      <th>...</th>\n",
       "      <th>roa</th>\n",
       "      <th>roe</th>\n",
       "      <th>wc_net</th>\n",
       "      <th>margin_fin</th>\n",
       "      <th>cf_operations</th>\n",
       "      <th>cf_to_debt</th>\n",
       "      <th>debt_ratio</th>\n",
       "      <th>ebitda_ta</th>\n",
       "      <th>fin_lev</th>\n",
       "      <th>wc_ta</th>\n",
       "    </tr>\n",
       "  </thead>\n",
       "  <tbody>\n",
       "    <tr>\n",
       "      <th>179881</th>\n",
       "      <td>431813</td>\n",
       "      <td>1027660172</td>\n",
       "      <td>2008-12-31</td>\n",
       "      <td>17.0</td>\n",
       "      <td>SRU</td>\n",
       "      <td>68.0</td>\n",
       "      <td>NaT</td>\n",
       "      <td>2008</td>\n",
       "      <td>0.0</td>\n",
       "      <td>10633750.0</td>\n",
       "      <td>...</td>\n",
       "      <td>-0.01</td>\n",
       "      <td>-0.01</td>\n",
       "      <td>4314.0</td>\n",
       "      <td>4314.0</td>\n",
       "      <td>-797.0</td>\n",
       "      <td>797.00000</td>\n",
       "      <td>-9.400208e-08</td>\n",
       "      <td>-0.000071</td>\n",
       "      <td>0.0</td>\n",
       "      <td>0.000406</td>\n",
       "    </tr>\n",
       "    <tr>\n",
       "      <th>179882</th>\n",
       "      <td>431814</td>\n",
       "      <td>1027660172</td>\n",
       "      <td>2009-12-31</td>\n",
       "      <td>17.0</td>\n",
       "      <td>SRU</td>\n",
       "      <td>68.0</td>\n",
       "      <td>NaT</td>\n",
       "      <td>2009</td>\n",
       "      <td>0.0</td>\n",
       "      <td>10633750.0</td>\n",
       "      <td>...</td>\n",
       "      <td>-0.01</td>\n",
       "      <td>-0.01</td>\n",
       "      <td>3782.0</td>\n",
       "      <td>3782.0</td>\n",
       "      <td>-533.0</td>\n",
       "      <td>533.00000</td>\n",
       "      <td>-9.400678e-08</td>\n",
       "      <td>-0.000050</td>\n",
       "      <td>0.0</td>\n",
       "      <td>0.000356</td>\n",
       "    </tr>\n",
       "    <tr>\n",
       "      <th>179884</th>\n",
       "      <td>431816</td>\n",
       "      <td>1027660172</td>\n",
       "      <td>2010-12-31</td>\n",
       "      <td>17.0</td>\n",
       "      <td>SRU</td>\n",
       "      <td>68.0</td>\n",
       "      <td>NaT</td>\n",
       "      <td>2010</td>\n",
       "      <td>0.0</td>\n",
       "      <td>10633750.0</td>\n",
       "      <td>...</td>\n",
       "      <td>-0.01</td>\n",
       "      <td>-0.01</td>\n",
       "      <td>2910.0</td>\n",
       "      <td>2910.0</td>\n",
       "      <td>-871.0</td>\n",
       "      <td>-inf</td>\n",
       "      <td>0.000000e+00</td>\n",
       "      <td>-0.000082</td>\n",
       "      <td>0.0</td>\n",
       "      <td>0.000274</td>\n",
       "    </tr>\n",
       "    <tr>\n",
       "      <th>179883</th>\n",
       "      <td>431815</td>\n",
       "      <td>1027660172</td>\n",
       "      <td>2011-12-31</td>\n",
       "      <td>17.0</td>\n",
       "      <td>SRU</td>\n",
       "      <td>68.0</td>\n",
       "      <td>NaT</td>\n",
       "      <td>2011</td>\n",
       "      <td>0.0</td>\n",
       "      <td>10633750.0</td>\n",
       "      <td>...</td>\n",
       "      <td>0.00</td>\n",
       "      <td>0.00</td>\n",
       "      <td>2490.0</td>\n",
       "      <td>2491.0</td>\n",
       "      <td>-420.0</td>\n",
       "      <td>-inf</td>\n",
       "      <td>0.000000e+00</td>\n",
       "      <td>-0.000039</td>\n",
       "      <td>0.0</td>\n",
       "      <td>0.000234</td>\n",
       "    </tr>\n",
       "    <tr>\n",
       "      <th>179885</th>\n",
       "      <td>431817</td>\n",
       "      <td>1027660172</td>\n",
       "      <td>2012-12-31</td>\n",
       "      <td>17.0</td>\n",
       "      <td>SRU</td>\n",
       "      <td>68.0</td>\n",
       "      <td>NaT</td>\n",
       "      <td>2012</td>\n",
       "      <td>0.0</td>\n",
       "      <td>10633750.0</td>\n",
       "      <td>...</td>\n",
       "      <td>0.00</td>\n",
       "      <td>0.00</td>\n",
       "      <td>2046.0</td>\n",
       "      <td>2046.0</td>\n",
       "      <td>-444.0</td>\n",
       "      <td>-1.02069</td>\n",
       "      <td>4.089795e-05</td>\n",
       "      <td>-0.000042</td>\n",
       "      <td>0.0</td>\n",
       "      <td>0.000192</td>\n",
       "    </tr>\n",
       "  </tbody>\n",
       "</table>\n",
       "<p>5 rows × 49 columns</p>\n",
       "</div>"
      ],
      "text/plain": [
       "        Unnamed: 0          id   stmt_date  HQ_city legal_struct  \\\n",
       "179881      431813  1027660172  2008-12-31     17.0          SRU   \n",
       "179882      431814  1027660172  2009-12-31     17.0          SRU   \n",
       "179884      431816  1027660172  2010-12-31     17.0          SRU   \n",
       "179883      431815  1027660172  2011-12-31     17.0          SRU   \n",
       "179885      431817  1027660172  2012-12-31     17.0          SRU   \n",
       "\n",
       "        ateco_sector def_date  fs_year  asst_intang_fixed  asst_tang_fixed  \\\n",
       "179881          68.0      NaT     2008                0.0       10633750.0   \n",
       "179882          68.0      NaT     2009                0.0       10633750.0   \n",
       "179884          68.0      NaT     2010                0.0       10633750.0   \n",
       "179883          68.0      NaT     2011                0.0       10633750.0   \n",
       "179885          68.0      NaT     2012                0.0       10633750.0   \n",
       "\n",
       "        ...   roa   roe  wc_net  margin_fin  cf_operations  cf_to_debt  \\\n",
       "179881  ... -0.01 -0.01  4314.0      4314.0         -797.0   797.00000   \n",
       "179882  ... -0.01 -0.01  3782.0      3782.0         -533.0   533.00000   \n",
       "179884  ... -0.01 -0.01  2910.0      2910.0         -871.0        -inf   \n",
       "179883  ...  0.00  0.00  2490.0      2491.0         -420.0        -inf   \n",
       "179885  ...  0.00  0.00  2046.0      2046.0         -444.0    -1.02069   \n",
       "\n",
       "          debt_ratio  ebitda_ta  fin_lev     wc_ta  \n",
       "179881 -9.400208e-08  -0.000071      0.0  0.000406  \n",
       "179882 -9.400678e-08  -0.000050      0.0  0.000356  \n",
       "179884  0.000000e+00  -0.000082      0.0  0.000274  \n",
       "179883  0.000000e+00  -0.000039      0.0  0.000234  \n",
       "179885  4.089795e-05  -0.000042      0.0  0.000192  \n",
       "\n",
       "[5 rows x 49 columns]"
      ]
     },
     "execution_count": 48,
     "metadata": {},
     "output_type": "execute_result"
    }
   ],
   "source": [
    "train[train.id == 1027660172].sort_values(by='fs_year')"
   ]
  },
  {
   "cell_type": "code",
   "execution_count": 4,
   "id": "3254abc1",
   "metadata": {},
   "outputs": [
    {
     "name": "stdout",
     "output_type": "stream",
     "text": [
      "Size of Dataset: (1023552, 49)\n",
      "Features:\n",
      " ['Unnamed: 0', 'id', 'stmt_date', 'HQ_city', 'legal_struct', 'ateco_sector', 'def_date', 'fs_year', 'asst_intang_fixed', 'asst_tang_fixed', 'asst_fixed_fin', 'asst_current', 'AR', 'cash_and_equiv', 'asst_tot', 'eqty_tot', 'eqty_corp_family_tot', 'liab_lt', 'liab_lt_emp', 'debt_bank_st', 'debt_bank_lt', 'debt_fin_st', 'debt_fin_lt', 'AP_st', 'AP_lt', 'debt_st', 'debt_lt', 'rev_operating', 'COGS', 'prof_operations', 'goodwill', 'inc_financing', 'exp_financing', 'prof_financing', 'inc_extraord', 'taxes', 'profit', 'days_rec', 'ebitda', 'roa', 'roe', 'wc_net', 'margin_fin', 'cf_operations', 'cf_to_debt', 'debt_ratio', 'ebitda_ta', 'fin_lev', 'wc_ta']\n"
     ]
    }
   ],
   "source": [
    "print(\"Size of Dataset:\", train.shape)\n",
    "print(\"Features:\\n\", list(train.columns))"
   ]
  },
  {
   "cell_type": "code",
   "execution_count": 32,
   "id": "3cdf52b3",
   "metadata": {},
   "outputs": [
    {
     "data": {
      "text/plain": [
       "array([nan])"
      ]
     },
     "execution_count": 32,
     "metadata": {},
     "output_type": "execute_result"
    }
   ],
   "source": [
    "train.eqty_corp_family_tot.unique()"
   ]
  },
  {
   "cell_type": "code",
   "execution_count": 31,
   "id": "cc15abe3",
   "metadata": {},
   "outputs": [
    {
     "name": "stdout",
     "output_type": "stream",
     "text": [
      "\n",
      " Unique default dates:  ['NaT' '31/10/2008' '28/07/2008' ... '27/07/2013' '01/11/2013'\n",
      " '03/01/2013'] \n",
      " Unique fiscal years:  [2011 2008 2009 2012 2007 2010] \n",
      " Unique statement dates:  ['2011-12-31' '2008-12-31' '2009-12-31' '2012-12-31' '2007-12-31'\n",
      " '2010-12-31']\n"
     ]
    }
   ],
   "source": [
    "print('\\n Unique default dates: ', train.def_date.unique(), '\\n Unique fiscal years: ', train.fs_year.unique(), \n",
    "      '\\n Unique statement dates: ', train.stmt_date.unique())"
   ]
  },
  {
   "cell_type": "code",
   "execution_count": 33,
   "id": "75ce1728",
   "metadata": {},
   "outputs": [
    {
     "name": "stdout",
     "output_type": "stream",
     "text": [
      "After removing the unnamed, eqty_corp_family_tot, stmt_date columns, the shape of training data is: (1023552, 42)\n"
     ]
    },
    {
     "data": {
      "text/html": [
       "<div>\n",
       "<style scoped>\n",
       "    .dataframe tbody tr th:only-of-type {\n",
       "        vertical-align: middle;\n",
       "    }\n",
       "\n",
       "    .dataframe tbody tr th {\n",
       "        vertical-align: top;\n",
       "    }\n",
       "\n",
       "    .dataframe thead th {\n",
       "        text-align: right;\n",
       "    }\n",
       "</style>\n",
       "<table border=\"1\" class=\"dataframe\">\n",
       "  <thead>\n",
       "    <tr style=\"text-align: right;\">\n",
       "      <th></th>\n",
       "      <th>id</th>\n",
       "      <th>stmt_date</th>\n",
       "      <th>HQ_city</th>\n",
       "      <th>legal_struct</th>\n",
       "      <th>ateco_sector</th>\n",
       "      <th>def_date</th>\n",
       "      <th>fs_year</th>\n",
       "      <th>asst_intang_fixed</th>\n",
       "      <th>asst_tang_fixed</th>\n",
       "      <th>asst_fixed_fin</th>\n",
       "      <th>...</th>\n",
       "      <th>inc_extraord</th>\n",
       "      <th>taxes</th>\n",
       "      <th>profit</th>\n",
       "      <th>days_rec</th>\n",
       "      <th>ebitda</th>\n",
       "      <th>roa</th>\n",
       "      <th>roe</th>\n",
       "      <th>wc_net</th>\n",
       "      <th>margin_fin</th>\n",
       "      <th>cf_operations</th>\n",
       "    </tr>\n",
       "  </thead>\n",
       "  <tbody>\n",
       "    <tr>\n",
       "      <th>4</th>\n",
       "      <td>520288</td>\n",
       "      <td>2007-12-31</td>\n",
       "      <td>28.0</td>\n",
       "      <td>SRL</td>\n",
       "      <td>14.0</td>\n",
       "      <td>NaT</td>\n",
       "      <td>2007</td>\n",
       "      <td>126603.0</td>\n",
       "      <td>1127807.0</td>\n",
       "      <td>620.0</td>\n",
       "      <td>...</td>\n",
       "      <td>820.0</td>\n",
       "      <td>92192.0</td>\n",
       "      <td>36733.0</td>\n",
       "      <td>NaN</td>\n",
       "      <td>153060.0</td>\n",
       "      <td>6.20</td>\n",
       "      <td>52.43</td>\n",
       "      <td>-317007.0</td>\n",
       "      <td>-1184970.0</td>\n",
       "      <td>80039.0</td>\n",
       "    </tr>\n",
       "    <tr>\n",
       "      <th>1</th>\n",
       "      <td>520288</td>\n",
       "      <td>2008-12-31</td>\n",
       "      <td>28.0</td>\n",
       "      <td>SRL</td>\n",
       "      <td>14.0</td>\n",
       "      <td>NaT</td>\n",
       "      <td>2008</td>\n",
       "      <td>256438.0</td>\n",
       "      <td>1181416.0</td>\n",
       "      <td>860.0</td>\n",
       "      <td>...</td>\n",
       "      <td>-678.0</td>\n",
       "      <td>-94622.0</td>\n",
       "      <td>-107382.0</td>\n",
       "      <td>NaN</td>\n",
       "      <td>46088.0</td>\n",
       "      <td>-2.76</td>\n",
       "      <td>NaN</td>\n",
       "      <td>97952.0</td>\n",
       "      <td>NaN</td>\n",
       "      <td>-3881.0</td>\n",
       "    </tr>\n",
       "    <tr>\n",
       "      <th>2</th>\n",
       "      <td>520288</td>\n",
       "      <td>2009-12-31</td>\n",
       "      <td>28.0</td>\n",
       "      <td>SRL</td>\n",
       "      <td>14.0</td>\n",
       "      <td>NaT</td>\n",
       "      <td>2009</td>\n",
       "      <td>194046.0</td>\n",
       "      <td>1152014.0</td>\n",
       "      <td>860.0</td>\n",
       "      <td>...</td>\n",
       "      <td>4224.0</td>\n",
       "      <td>-74235.0</td>\n",
       "      <td>-77819.0</td>\n",
       "      <td>NaN</td>\n",
       "      <td>67611.0</td>\n",
       "      <td>-2.17</td>\n",
       "      <td>NaN</td>\n",
       "      <td>-210671.0</td>\n",
       "      <td>NaN</td>\n",
       "      <td>32618.0</td>\n",
       "    </tr>\n",
       "    <tr>\n",
       "      <th>5</th>\n",
       "      <td>520288</td>\n",
       "      <td>2010-12-31</td>\n",
       "      <td>28.0</td>\n",
       "      <td>SRL</td>\n",
       "      <td>14.0</td>\n",
       "      <td>NaT</td>\n",
       "      <td>2010</td>\n",
       "      <td>130973.0</td>\n",
       "      <td>1136731.0</td>\n",
       "      <td>946.0</td>\n",
       "      <td>...</td>\n",
       "      <td>-2529.0</td>\n",
       "      <td>-82781.0</td>\n",
       "      <td>-83593.0</td>\n",
       "      <td>NaN</td>\n",
       "      <td>3973.0</td>\n",
       "      <td>-4.08</td>\n",
       "      <td>-22.52</td>\n",
       "      <td>398756.0</td>\n",
       "      <td>-897381.0</td>\n",
       "      <td>-2104.0</td>\n",
       "    </tr>\n",
       "    <tr>\n",
       "      <th>0</th>\n",
       "      <td>520288</td>\n",
       "      <td>2011-12-31</td>\n",
       "      <td>28.0</td>\n",
       "      <td>SRL</td>\n",
       "      <td>14.0</td>\n",
       "      <td>NaT</td>\n",
       "      <td>2011</td>\n",
       "      <td>67537.0</td>\n",
       "      <td>1137566.0</td>\n",
       "      <td>1908.0</td>\n",
       "      <td>...</td>\n",
       "      <td>-309.0</td>\n",
       "      <td>-80959.0</td>\n",
       "      <td>-81288.0</td>\n",
       "      <td>NaN</td>\n",
       "      <td>6318.0</td>\n",
       "      <td>-3.81</td>\n",
       "      <td>-28.03</td>\n",
       "      <td>496258.0</td>\n",
       "      <td>-917029.0</td>\n",
       "      <td>-849.0</td>\n",
       "    </tr>\n",
       "  </tbody>\n",
       "</table>\n",
       "<p>5 rows × 42 columns</p>\n",
       "</div>"
      ],
      "text/plain": [
       "       id   stmt_date  HQ_city legal_struct  ateco_sector def_date  fs_year  \\\n",
       "4  520288  2007-12-31     28.0          SRL          14.0      NaT     2007   \n",
       "1  520288  2008-12-31     28.0          SRL          14.0      NaT     2008   \n",
       "2  520288  2009-12-31     28.0          SRL          14.0      NaT     2009   \n",
       "5  520288  2010-12-31     28.0          SRL          14.0      NaT     2010   \n",
       "0  520288  2011-12-31     28.0          SRL          14.0      NaT     2011   \n",
       "\n",
       "   asst_intang_fixed  asst_tang_fixed  asst_fixed_fin  ...  inc_extraord  \\\n",
       "4           126603.0        1127807.0           620.0  ...         820.0   \n",
       "1           256438.0        1181416.0           860.0  ...        -678.0   \n",
       "2           194046.0        1152014.0           860.0  ...        4224.0   \n",
       "5           130973.0        1136731.0           946.0  ...       -2529.0   \n",
       "0            67537.0        1137566.0          1908.0  ...        -309.0   \n",
       "\n",
       "     taxes    profit  days_rec    ebitda   roa    roe    wc_net  margin_fin  \\\n",
       "4  92192.0   36733.0       NaN  153060.0  6.20  52.43 -317007.0  -1184970.0   \n",
       "1 -94622.0 -107382.0       NaN   46088.0 -2.76    NaN   97952.0         NaN   \n",
       "2 -74235.0  -77819.0       NaN   67611.0 -2.17    NaN -210671.0         NaN   \n",
       "5 -82781.0  -83593.0       NaN    3973.0 -4.08 -22.52  398756.0   -897381.0   \n",
       "0 -80959.0  -81288.0       NaN    6318.0 -3.81 -28.03  496258.0   -917029.0   \n",
       "\n",
       "   cf_operations  \n",
       "4        80039.0  \n",
       "1        -3881.0  \n",
       "2        32618.0  \n",
       "5        -2104.0  \n",
       "0         -849.0  \n",
       "\n",
       "[5 rows x 42 columns]"
      ]
     },
     "execution_count": 33,
     "metadata": {},
     "output_type": "execute_result"
    }
   ],
   "source": [
    "#pandas indexes the dataframe, so we can remove the Unanmed column as well as the equity corp column as its all nans \n",
    "#remove statement dates, keep fiscal years because they provide the same information \n",
    "\n",
    "train = train.drop(columns = ['Unnamed: 0', 'eqty_corp_family_tot'])\n",
    "train = train.sort_values([\"id\", \"fs_year\", 'stmt_date'])\n",
    "print(\"After removing the unnamed, eqty_corp_family_tot, stmt_date columns, the shape of training data is:\", train.shape)\n",
    "train.head()"
   ]
  },
  {
   "cell_type": "code",
   "execution_count": 34,
   "id": "bd7b299f",
   "metadata": {},
   "outputs": [],
   "source": [
    "tmp = pd.concat([train.id, train.legal_struct, train.ateco_sector, train.HQ_city], axis = 1).drop_duplicates()"
   ]
  },
  {
   "cell_type": "code",
   "execution_count": 35,
   "id": "f0ab645b",
   "metadata": {},
   "outputs": [
    {
     "data": {
      "text/html": [
       "<div>\n",
       "<style scoped>\n",
       "    .dataframe tbody tr th:only-of-type {\n",
       "        vertical-align: middle;\n",
       "    }\n",
       "\n",
       "    .dataframe tbody tr th {\n",
       "        vertical-align: top;\n",
       "    }\n",
       "\n",
       "    .dataframe thead th {\n",
       "        text-align: right;\n",
       "    }\n",
       "</style>\n",
       "<table border=\"1\" class=\"dataframe\">\n",
       "  <thead>\n",
       "    <tr style=\"text-align: right;\">\n",
       "      <th></th>\n",
       "      <th>id</th>\n",
       "      <th>legal_struct</th>\n",
       "      <th>ateco_sector</th>\n",
       "      <th>HQ_city</th>\n",
       "    </tr>\n",
       "  </thead>\n",
       "  <tbody>\n",
       "    <tr>\n",
       "      <th>4</th>\n",
       "      <td>520288</td>\n",
       "      <td>SRL</td>\n",
       "      <td>14.0</td>\n",
       "      <td>28.0</td>\n",
       "    </tr>\n",
       "    <tr>\n",
       "      <th>8</th>\n",
       "      <td>1400357</td>\n",
       "      <td>SRL</td>\n",
       "      <td>49.0</td>\n",
       "      <td>35.0</td>\n",
       "    </tr>\n",
       "    <tr>\n",
       "      <th>14</th>\n",
       "      <td>1650282</td>\n",
       "      <td>SRL</td>\n",
       "      <td>25.0</td>\n",
       "      <td>27.0</td>\n",
       "    </tr>\n",
       "    <tr>\n",
       "      <th>997117</th>\n",
       "      <td>1900034</td>\n",
       "      <td>SRL</td>\n",
       "      <td>68.0</td>\n",
       "      <td>3.0</td>\n",
       "    </tr>\n",
       "    <tr>\n",
       "      <th>16</th>\n",
       "      <td>1930130</td>\n",
       "      <td>SRL</td>\n",
       "      <td>43.0</td>\n",
       "      <td>13.0</td>\n",
       "    </tr>\n",
       "    <tr>\n",
       "      <th>...</th>\n",
       "      <td>...</td>\n",
       "      <td>...</td>\n",
       "      <td>...</td>\n",
       "      <td>...</td>\n",
       "    </tr>\n",
       "    <tr>\n",
       "      <th>957933</th>\n",
       "      <td>98002050783</td>\n",
       "      <td>SRL</td>\n",
       "      <td>41.0</td>\n",
       "      <td>78.0</td>\n",
       "    </tr>\n",
       "    <tr>\n",
       "      <th>957941</th>\n",
       "      <td>98002670176</td>\n",
       "      <td>SRL</td>\n",
       "      <td>36.0</td>\n",
       "      <td>17.0</td>\n",
       "    </tr>\n",
       "    <tr>\n",
       "      <th>957944</th>\n",
       "      <td>98111210179</td>\n",
       "      <td>SRL</td>\n",
       "      <td>69.0</td>\n",
       "      <td>17.0</td>\n",
       "    </tr>\n",
       "    <tr>\n",
       "      <th>957951</th>\n",
       "      <td>98111220178</td>\n",
       "      <td>SRL</td>\n",
       "      <td>70.0</td>\n",
       "      <td>17.0</td>\n",
       "    </tr>\n",
       "    <tr>\n",
       "      <th>957957</th>\n",
       "      <td>98120940170</td>\n",
       "      <td>SRU</td>\n",
       "      <td>38.0</td>\n",
       "      <td>17.0</td>\n",
       "    </tr>\n",
       "  </tbody>\n",
       "</table>\n",
       "<p>237711 rows × 4 columns</p>\n",
       "</div>"
      ],
      "text/plain": [
       "                 id legal_struct  ateco_sector  HQ_city\n",
       "4            520288          SRL          14.0     28.0\n",
       "8           1400357          SRL          49.0     35.0\n",
       "14          1650282          SRL          25.0     27.0\n",
       "997117      1900034          SRL          68.0      3.0\n",
       "16          1930130          SRL          43.0     13.0\n",
       "...             ...          ...           ...      ...\n",
       "957933  98002050783          SRL          41.0     78.0\n",
       "957941  98002670176          SRL          36.0     17.0\n",
       "957944  98111210179          SRL          69.0     17.0\n",
       "957951  98111220178          SRL          70.0     17.0\n",
       "957957  98120940170          SRU          38.0     17.0\n",
       "\n",
       "[237711 rows x 4 columns]"
      ]
     },
     "execution_count": 35,
     "metadata": {},
     "output_type": "execute_result"
    }
   ],
   "source": [
    "tmp"
   ]
  },
  {
   "cell_type": "markdown",
   "id": "fe1f637a",
   "metadata": {},
   "source": [
    "<b> Legal structure of the firms:\n",
    "\n",
    "In Italy, there are two main types of limited liability companies:\n",
    "- 'SRL': Private Limited Companies by Quotas (limited liability)\n",
    "- 'SPA': Public Limited Companies by Shares (Joint-Stock Companies)\n",
    "\n",
    "- 'SRU': \n",
    "- 'SAU': Single Shareholder Corporation \n",
    "- 'SAA': Public Firms \n",
    "- 'SRS':"
   ]
  },
  {
   "cell_type": "code",
   "execution_count": 11,
   "id": "784e0656",
   "metadata": {},
   "outputs": [
    {
     "name": "stdout",
     "output_type": "stream",
     "text": [
      "Image 1:\n",
      "Distribution of \n",
      " Legal Structure of Firms\n"
     ]
    },
    {
     "data": {
      "text/plain": [
       "SRL    0.733879\n",
       "SRU    0.163631\n",
       "SPA    0.082251\n",
       "SAU    0.020020\n",
       "SAA    0.000202\n",
       "SRS    0.000017\n",
       "Name: legal_struct, dtype: float64"
      ]
     },
     "execution_count": 11,
     "metadata": {},
     "output_type": "execute_result"
    }
   ],
   "source": [
    "print('Image 1:')\n",
    "print(\"Distribution of \\n Legal Structure of Firms\")\n",
    "tmp.legal_struct.value_counts(normalize=True)"
   ]
  },
  {
   "cell_type": "markdown",
   "id": "c7cc1105",
   "metadata": {},
   "source": [
    "<b> Industry sector code:"
   ]
  },
  {
   "cell_type": "code",
   "execution_count": 12,
   "id": "547a7052",
   "metadata": {},
   "outputs": [
    {
     "name": "stdout",
     "output_type": "stream",
     "text": [
      "Distribution of Industry sectors\n"
     ]
    },
    {
     "data": {
      "text/plain": [
       "68.0    0.191304\n",
       "41.0    0.149690\n",
       "46.0    0.112679\n",
       "25.0    0.043519\n",
       "47.0    0.042144\n",
       "43.0    0.031993\n",
       "28.0    0.029633\n",
       "45.0    0.023188\n",
       "70.0    0.022822\n",
       "55.0    0.020298\n",
       "Name: ateco_sector, dtype: float64"
      ]
     },
     "execution_count": 12,
     "metadata": {},
     "output_type": "execute_result"
    }
   ],
   "source": [
    "print(\"Distribution of Industry sectors\")\n",
    "tmp.ateco_sector.value_counts(normalize=True).head(10)"
   ]
  },
  {
   "cell_type": "markdown",
   "id": "68809546",
   "metadata": {},
   "source": [
    "<b> City of main branch:"
   ]
  },
  {
   "cell_type": "code",
   "execution_count": 13,
   "id": "5d92083d",
   "metadata": {},
   "outputs": [
    {
     "name": "stdout",
     "output_type": "stream",
     "text": [
      "Distribution of city of main branch\n"
     ]
    },
    {
     "data": {
      "text/plain": [
       "15.0    0.115930\n",
       "58.0    0.091930\n",
       "63.0    0.035341\n",
       "17.0    0.034205\n",
       "1.0     0.033717\n",
       "16.0    0.029530\n",
       "37.0    0.024071\n",
       "24.0    0.023411\n",
       "26.0    0.021563\n",
       "48.0    0.020962\n",
       "Name: HQ_city, dtype: float64"
      ]
     },
     "execution_count": 13,
     "metadata": {},
     "output_type": "execute_result"
    }
   ],
   "source": [
    "print(\"Distribution of city of main branch\")\n",
    "tmp.HQ_city.value_counts(normalize=True).head(10)"
   ]
  },
  {
   "cell_type": "markdown",
   "id": "f7b1bcc0",
   "metadata": {},
   "source": [
    "<b> Taxes and Extraordinary Income:"
   ]
  },
  {
   "cell_type": "code",
   "execution_count": 14,
   "id": "41ca62a9",
   "metadata": {},
   "outputs": [
    {
     "name": "stdout",
     "output_type": "stream",
     "text": [
      "% of unique firms with no tax liability: 31.31\n",
      "% of unique firms with tax liability: 68.69\n"
     ]
    }
   ],
   "source": [
    "avg_taxes = train.groupby(['id'])['taxes'].mean().to_frame()\n",
    "avg_ext_inc = train.groupby(['id'])['inc_extraord'].mean().to_frame()\n",
    "\n",
    "taxes = pd.concat([avg_taxes, avg_ext_inc], axis = 1).reset_index()\n",
    "\n",
    "print('% of unique firms with no tax liability:', np.round((len(taxes[taxes.taxes <= 0]) / taxes.id.nunique()),4)*100)\n",
    "print('% of unique firms with tax liability:', np.round((len(taxes[taxes.taxes > 0]) / taxes.id.nunique()),4)*100)"
   ]
  },
  {
   "cell_type": "code",
   "execution_count": 15,
   "id": "af81fbbc",
   "metadata": {},
   "outputs": [
    {
     "name": "stdout",
     "output_type": "stream",
     "text": [
      "Distribution of Legal Structure of Firms for those with no tax liability\n"
     ]
    },
    {
     "data": {
      "text/plain": [
       "SRL    0.705229\n",
       "SRU    0.198866\n",
       "SPA    0.074109\n",
       "SAU    0.021621\n",
       "SAA    0.000161\n",
       "SRS    0.000013\n",
       "Name: legal_struct, dtype: float64"
      ]
     },
     "execution_count": 15,
     "metadata": {},
     "output_type": "execute_result"
    }
   ],
   "source": [
    "no_taxliab_ids = list(taxes[taxes.taxes <= 0]['id'])\n",
    "tmp2 = train[train.id.isin(no_taxliab_ids)]\n",
    "tmp3 = pd.concat([tmp2.id, tmp2.legal_struct], axis =1).drop_duplicates()\n",
    "print(\"Distribution of Legal Structure of Firms for those with no tax liability\")\n",
    "tmp3.legal_struct.value_counts(normalize=True)"
   ]
  },
  {
   "cell_type": "code",
   "execution_count": 16,
   "id": "97fb7eb8",
   "metadata": {},
   "outputs": [
    {
     "name": "stdout",
     "output_type": "stream",
     "text": [
      "Distribution of Legal Structure of Firms for those with tax liability\n"
     ]
    },
    {
     "data": {
      "text/plain": [
       "SRL    0.746935\n",
       "SRU    0.147574\n",
       "SPA    0.085962\n",
       "SAU    0.019290\n",
       "SAA    0.000220\n",
       "SRS    0.000018\n",
       "Name: legal_struct, dtype: float64"
      ]
     },
     "execution_count": 16,
     "metadata": {},
     "output_type": "execute_result"
    }
   ],
   "source": [
    "taxliab_ids = list(taxes[taxes.taxes > 0]['id'])\n",
    "tmp4 = train[train.id.isin(taxliab_ids)]\n",
    "tmp5 = pd.concat([tmp4.id, tmp4.legal_struct], axis =1).drop_duplicates()\n",
    "print(\"Distribution of Legal Structure of Firms for those with tax liability\")\n",
    "tmp5.legal_struct.value_counts(normalize=True)"
   ]
  },
  {
   "cell_type": "markdown",
   "id": "f2661e32",
   "metadata": {},
   "source": [
    "<b> Default vs. Non-Defaulted firms:\n"
   ]
  },
  {
   "cell_type": "code",
   "execution_count": 12,
   "id": "4952b3a6",
   "metadata": {},
   "outputs": [
    {
     "name": "stdout",
     "output_type": "stream",
     "text": [
      "% Nondefault in dataset: 94.59\n",
      "% Default in dataset: 5.41\n"
     ]
    }
   ],
   "source": [
    "percent_default = np.round(((len(train[train['def_date'] != 'NaT']) / len(train)) * 100),2)\n",
    "\n",
    "print(\"% Nondefault in dataset:\", 100 - percent_default)\n",
    "print(\"% Default in dataset:\",  percent_default)"
   ]
  },
  {
   "cell_type": "code",
   "execution_count": 36,
   "id": "b5457578",
   "metadata": {},
   "outputs": [],
   "source": [
    "defaulted = train[train['def_date'] != 'NaT']\n",
    "nondefaulted = train[train['def_date'] == 'NaT']"
   ]
  },
  {
   "cell_type": "code",
   "execution_count": 11,
   "id": "74daa06b",
   "metadata": {},
   "outputs": [
    {
     "data": {
      "image/png": "[encoded data removed]",
      "text/plain": [
       "<Figure size 640x480 with 1 Axes>"
      ]
     },
     "metadata": {},
     "output_type": "display_data"
    }
   ],
   "source": [
    "sns.kdeplot(data=defaulted, x=pd.to_datetime(defaulted['def_date'],  infer_datetime_format=True))\n",
    "plt.title(\"Distribution of Defaulted Firms\")\n",
    "plt.xlabel(\"Default Date\")\n",
    "plt.show()\n",
    "\n",
    "# sns.displot(defaulted['def_date'])"
   ]
  },
  {
   "cell_type": "markdown",
   "id": "e36284d1",
   "metadata": {},
   "source": [
    "<b> Default HQ City vs. Non-Defaulted HQ City:"
   ]
  },
  {
   "cell_type": "code",
   "execution_count": 37,
   "id": "8d145ab3",
   "metadata": {},
   "outputs": [
    {
     "data": {
      "text/plain": [
       "Index(['id', 'stmt_date', 'HQ_city', 'legal_struct', 'ateco_sector',\n",
       "       'def_date', 'fs_year', 'asst_intang_fixed', 'asst_tang_fixed',\n",
       "       'asst_fixed_fin', 'asst_current', 'AR', 'cash_and_equiv', 'asst_tot',\n",
       "       'eqty_tot', 'liab_lt', 'liab_lt_emp', 'debt_bank_st', 'debt_bank_lt',\n",
       "       'debt_fin_st', 'debt_fin_lt', 'AP_st', 'AP_lt', 'debt_st', 'debt_lt',\n",
       "       'rev_operating', 'COGS', 'prof_operations', 'goodwill', 'inc_financing',\n",
       "       'exp_financing', 'prof_financing', 'inc_extraord', 'taxes', 'profit',\n",
       "       'days_rec', 'ebitda', 'roa', 'roe', 'wc_net', 'margin_fin',\n",
       "       'cf_operations'],\n",
       "      dtype='object')"
      ]
     },
     "execution_count": 37,
     "metadata": {},
     "output_type": "execute_result"
    }
   ],
   "source": [
    "defaulted.columns"
   ]
  },
  {
   "cell_type": "code",
   "execution_count": 59,
   "id": "bffd9ea2",
   "metadata": {},
   "outputs": [],
   "source": [
    "tmp6 = pd.concat([defaulted.id, defaulted.ateco_sector], axis =1).drop_duplicates()\n",
    "tmp7 = pd.concat([nondefaulted.id, nondefaulted.ateco_sector], axis =1).drop_duplicates()\n",
    "\n",
    "top_def_city = tmp6.ateco_sector.value_counts(normalize=True).head(6)\n",
    "top_nondef_city = tmp7.ateco_sector.value_counts(normalize=True).head()"
   ]
  },
  {
   "cell_type": "code",
   "execution_count": 60,
   "id": "1df2b4e6",
   "metadata": {},
   "outputs": [
    {
     "name": "stdout",
     "output_type": "stream",
     "text": [
      "Image 2\n",
      "% of Default vs. Non-Default firms \n",
      " that come from top 5 HQ City:\n"
     ]
    },
    {
     "data": {
      "text/html": [
       "<div>\n",
       "<style scoped>\n",
       "    .dataframe tbody tr th:only-of-type {\n",
       "        vertical-align: middle;\n",
       "    }\n",
       "\n",
       "    .dataframe tbody tr th {\n",
       "        vertical-align: top;\n",
       "    }\n",
       "\n",
       "    .dataframe thead th {\n",
       "        text-align: right;\n",
       "    }\n",
       "</style>\n",
       "<table border=\"1\" class=\"dataframe\">\n",
       "  <thead>\n",
       "    <tr style=\"text-align: right;\">\n",
       "      <th>Top Industries</th>\n",
       "      <th>Defaulted Firms</th>\n",
       "      <th>Non-defaulted Firms</th>\n",
       "    </tr>\n",
       "  </thead>\n",
       "  <tbody>\n",
       "    <tr>\n",
       "      <th>41.0</th>\n",
       "      <td>0.170164</td>\n",
       "      <td>0.147847</td>\n",
       "    </tr>\n",
       "    <tr>\n",
       "      <th>68.0</th>\n",
       "      <td>0.136651</td>\n",
       "      <td>0.196224</td>\n",
       "    </tr>\n",
       "    <tr>\n",
       "      <th>46.0</th>\n",
       "      <td>0.127839</td>\n",
       "      <td>0.111314</td>\n",
       "    </tr>\n",
       "    <tr>\n",
       "      <th>47.0</th>\n",
       "      <td>0.050372</td>\n",
       "      <td>0.041403</td>\n",
       "    </tr>\n",
       "    <tr>\n",
       "      <th>25.0</th>\n",
       "      <td>0.040389</td>\n",
       "      <td>0.043801</td>\n",
       "    </tr>\n",
       "    <tr>\n",
       "      <th>43.0</th>\n",
       "      <td>0.035092</td>\n",
       "      <td>NaN</td>\n",
       "    </tr>\n",
       "  </tbody>\n",
       "</table>\n",
       "</div>"
      ],
      "text/plain": [
       "Top Industries  Defaulted Firms  Non-defaulted Firms\n",
       "41.0                   0.170164             0.147847\n",
       "68.0                   0.136651             0.196224\n",
       "46.0                   0.127839             0.111314\n",
       "47.0                   0.050372             0.041403\n",
       "25.0                   0.040389             0.043801\n",
       "43.0                   0.035092                  NaN"
      ]
     },
     "execution_count": 60,
     "metadata": {},
     "output_type": "execute_result"
    }
   ],
   "source": [
    "print(\"Image 2\")\n",
    "print(\"% of Default vs. Non-Default firms \\n that come from top 5 HQ City:\")\n",
    "pd.concat([top_def_city, top_nondef_city], names = 'Top Industries', axis = 1, keys = ['Defaulted Firms', 'Non-defaulted Firms'])"
   ]
  },
  {
   "cell_type": "markdown",
   "id": "55fc67fa",
   "metadata": {},
   "source": [
    "<b> Financial Statement Features:"
   ]
  },
  {
   "cell_type": "code",
   "execution_count": 22,
   "id": "73f92972",
   "metadata": {},
   "outputs": [
    {
     "data": {
      "text/html": [
       "<div>\n",
       "<style scoped>\n",
       "    .dataframe tbody tr th:only-of-type {\n",
       "        vertical-align: middle;\n",
       "    }\n",
       "\n",
       "    .dataframe tbody tr th {\n",
       "        vertical-align: top;\n",
       "    }\n",
       "\n",
       "    .dataframe thead th {\n",
       "        text-align: right;\n",
       "    }\n",
       "</style>\n",
       "<table border=\"1\" class=\"dataframe\">\n",
       "  <thead>\n",
       "    <tr style=\"text-align: right;\">\n",
       "      <th></th>\n",
       "      <th>fs_year</th>\n",
       "      <th>asst_intang_fixed</th>\n",
       "      <th>asst_tang_fixed</th>\n",
       "      <th>asst_fixed_fin</th>\n",
       "      <th>asst_current</th>\n",
       "      <th>AR</th>\n",
       "      <th>cash_and_equiv</th>\n",
       "      <th>asst_tot</th>\n",
       "      <th>eqty_tot</th>\n",
       "      <th>liab_lt</th>\n",
       "      <th>...</th>\n",
       "      <th>inc_extraord</th>\n",
       "      <th>taxes</th>\n",
       "      <th>profit</th>\n",
       "      <th>days_rec</th>\n",
       "      <th>ebitda</th>\n",
       "      <th>roa</th>\n",
       "      <th>roe</th>\n",
       "      <th>wc_net</th>\n",
       "      <th>margin_fin</th>\n",
       "      <th>cf_operations</th>\n",
       "    </tr>\n",
       "  </thead>\n",
       "  <tbody>\n",
       "    <tr>\n",
       "      <th>mean</th>\n",
       "      <td>2009.636356</td>\n",
       "      <td>4.684047e+05</td>\n",
       "      <td>3.411074e+06</td>\n",
       "      <td>1.171699e+06</td>\n",
       "      <td>5.957970e+06</td>\n",
       "      <td>3.360637e+06</td>\n",
       "      <td>4.751146e+05</td>\n",
       "      <td>1.111351e+07</td>\n",
       "      <td>3.585192e+06</td>\n",
       "      <td>3.385748e+05</td>\n",
       "      <td>...</td>\n",
       "      <td>2.715674e+04</td>\n",
       "      <td>2.218713e+05</td>\n",
       "      <td>8.234940e+04</td>\n",
       "      <td>84.886815</td>\n",
       "      <td>6.070971e+05</td>\n",
       "      <td>2.914601</td>\n",
       "      <td>4.060562</td>\n",
       "      <td>1.133337e+06</td>\n",
       "      <td>-1.381130e+06</td>\n",
       "      <td>4.041489e+05</td>\n",
       "    </tr>\n",
       "    <tr>\n",
       "      <th>std</th>\n",
       "      <td>1.686576</td>\n",
       "      <td>1.486886e+07</td>\n",
       "      <td>1.293634e+08</td>\n",
       "      <td>2.875413e+07</td>\n",
       "      <td>5.419817e+07</td>\n",
       "      <td>3.994736e+07</td>\n",
       "      <td>9.391475e+06</td>\n",
       "      <td>1.799274e+08</td>\n",
       "      <td>8.996885e+07</td>\n",
       "      <td>4.606932e+07</td>\n",
       "      <td>...</td>\n",
       "      <td>3.322200e+06</td>\n",
       "      <td>1.092509e+07</td>\n",
       "      <td>8.867946e+06</td>\n",
       "      <td>167.310720</td>\n",
       "      <td>1.507074e+07</td>\n",
       "      <td>10.233800</td>\n",
       "      <td>28.870051</td>\n",
       "      <td>2.009072e+07</td>\n",
       "      <td>6.858357e+07</td>\n",
       "      <td>1.202904e+07</td>\n",
       "    </tr>\n",
       "    <tr>\n",
       "      <th>min</th>\n",
       "      <td>2007.000000</td>\n",
       "      <td>-3.442959e+06</td>\n",
       "      <td>-1.711468e+06</td>\n",
       "      <td>-2.490262e+06</td>\n",
       "      <td>0.000000e+00</td>\n",
       "      <td>-2.782518e+06</td>\n",
       "      <td>-2.584593e+07</td>\n",
       "      <td>1.500000e+06</td>\n",
       "      <td>-8.052920e+08</td>\n",
       "      <td>-1.283245e+06</td>\n",
       "      <td>...</td>\n",
       "      <td>-9.724415e+08</td>\n",
       "      <td>-1.953236e+09</td>\n",
       "      <td>-1.914960e+09</td>\n",
       "      <td>-499.410000</td>\n",
       "      <td>-5.435868e+09</td>\n",
       "      <td>-963.900000</td>\n",
       "      <td>-150.000000</td>\n",
       "      <td>-4.130538e+09</td>\n",
       "      <td>-3.204300e+10</td>\n",
       "      <td>-1.914280e+09</td>\n",
       "    </tr>\n",
       "    <tr>\n",
       "      <th>25%</th>\n",
       "      <td>2008.000000</td>\n",
       "      <td>2.620000e+02</td>\n",
       "      <td>6.663100e+04</td>\n",
       "      <td>0.000000e+00</td>\n",
       "      <td>1.072830e+06</td>\n",
       "      <td>2.340728e+05</td>\n",
       "      <td>6.223000e+03</td>\n",
       "      <td>2.170073e+06</td>\n",
       "      <td>1.673525e+05</td>\n",
       "      <td>0.000000e+00</td>\n",
       "      <td>...</td>\n",
       "      <td>-3.990000e+02</td>\n",
       "      <td>-1.075900e+04</td>\n",
       "      <td>-2.165000e+04</td>\n",
       "      <td>-3.720000</td>\n",
       "      <td>4.004000e+04</td>\n",
       "      <td>0.110000</td>\n",
       "      <td>-1.500000</td>\n",
       "      <td>-1.009900e+05</td>\n",
       "      <td>-1.118978e+06</td>\n",
       "      <td>4.902000e+03</td>\n",
       "    </tr>\n",
       "    <tr>\n",
       "      <th>50%</th>\n",
       "      <td>2010.000000</td>\n",
       "      <td>7.975000e+03</td>\n",
       "      <td>5.958990e+05</td>\n",
       "      <td>1.378000e+03</td>\n",
       "      <td>2.040524e+06</td>\n",
       "      <td>8.916955e+05</td>\n",
       "      <td>4.964700e+04</td>\n",
       "      <td>3.458428e+06</td>\n",
       "      <td>7.189230e+05</td>\n",
       "      <td>0.000000e+00</td>\n",
       "      <td>...</td>\n",
       "      <td>0.000000e+00</td>\n",
       "      <td>4.058400e+04</td>\n",
       "      <td>1.088800e+04</td>\n",
       "      <td>66.420000</td>\n",
       "      <td>1.504030e+05</td>\n",
       "      <td>2.390000</td>\n",
       "      <td>2.560000</td>\n",
       "      <td>3.669130e+05</td>\n",
       "      <td>-1.019600e+05</td>\n",
       "      <td>7.604500e+04</td>\n",
       "    </tr>\n",
       "    <tr>\n",
       "      <th>75%</th>\n",
       "      <td>2011.000000</td>\n",
       "      <td>7.515675e+04</td>\n",
       "      <td>2.064874e+06</td>\n",
       "      <td>7.188100e+04</td>\n",
       "      <td>4.135408e+06</td>\n",
       "      <td>2.092540e+06</td>\n",
       "      <td>2.628755e+05</td>\n",
       "      <td>6.975953e+06</td>\n",
       "      <td>2.059212e+06</td>\n",
       "      <td>2.082000e+04</td>\n",
       "      <td>...</td>\n",
       "      <td>3.855000e+03</td>\n",
       "      <td>1.680972e+05</td>\n",
       "      <td>8.528850e+04</td>\n",
       "      <td>158.490000</td>\n",
       "      <td>3.813440e+05</td>\n",
       "      <td>5.200000</td>\n",
       "      <td>13.150000</td>\n",
       "      <td>1.374780e+06</td>\n",
       "      <td>3.470322e+05</td>\n",
       "      <td>2.393900e+05</td>\n",
       "    </tr>\n",
       "    <tr>\n",
       "      <th>max</th>\n",
       "      <td>2012.000000</td>\n",
       "      <td>3.708467e+09</td>\n",
       "      <td>5.822144e+10</td>\n",
       "      <td>8.529187e+09</td>\n",
       "      <td>1.479057e+10</td>\n",
       "      <td>1.101077e+10</td>\n",
       "      <td>5.519622e+09</td>\n",
       "      <td>7.164463e+10</td>\n",
       "      <td>3.356488e+10</td>\n",
       "      <td>2.707827e+10</td>\n",
       "      <td>...</td>\n",
       "      <td>1.849907e+09</td>\n",
       "      <td>3.142607e+09</td>\n",
       "      <td>2.314332e+09</td>\n",
       "      <td>2295.840000</td>\n",
       "      <td>4.227442e+09</td>\n",
       "      <td>907.560000</td>\n",
       "      <td>149.990000</td>\n",
       "      <td>3.768695e+09</td>\n",
       "      <td>1.830129e+09</td>\n",
       "      <td>3.377050e+09</td>\n",
       "    </tr>\n",
       "  </tbody>\n",
       "</table>\n",
       "<p>7 rows × 36 columns</p>\n",
       "</div>"
      ],
      "text/plain": [
       "          fs_year  asst_intang_fixed  asst_tang_fixed  asst_fixed_fin  \\\n",
       "mean  2009.636356       4.684047e+05     3.411074e+06    1.171699e+06   \n",
       "std      1.686576       1.486886e+07     1.293634e+08    2.875413e+07   \n",
       "min   2007.000000      -3.442959e+06    -1.711468e+06   -2.490262e+06   \n",
       "25%   2008.000000       2.620000e+02     6.663100e+04    0.000000e+00   \n",
       "50%   2010.000000       7.975000e+03     5.958990e+05    1.378000e+03   \n",
       "75%   2011.000000       7.515675e+04     2.064874e+06    7.188100e+04   \n",
       "max   2012.000000       3.708467e+09     5.822144e+10    8.529187e+09   \n",
       "\n",
       "      asst_current            AR  cash_and_equiv      asst_tot      eqty_tot  \\\n",
       "mean  5.957970e+06  3.360637e+06    4.751146e+05  1.111351e+07  3.585192e+06   \n",
       "std   5.419817e+07  3.994736e+07    9.391475e+06  1.799274e+08  8.996885e+07   \n",
       "min   0.000000e+00 -2.782518e+06   -2.584593e+07  1.500000e+06 -8.052920e+08   \n",
       "25%   1.072830e+06  2.340728e+05    6.223000e+03  2.170073e+06  1.673525e+05   \n",
       "50%   2.040524e+06  8.916955e+05    4.964700e+04  3.458428e+06  7.189230e+05   \n",
       "75%   4.135408e+06  2.092540e+06    2.628755e+05  6.975953e+06  2.059212e+06   \n",
       "max   1.479057e+10  1.101077e+10    5.519622e+09  7.164463e+10  3.356488e+10   \n",
       "\n",
       "           liab_lt  ...  inc_extraord         taxes        profit  \\\n",
       "mean  3.385748e+05  ...  2.715674e+04  2.218713e+05  8.234940e+04   \n",
       "std   4.606932e+07  ...  3.322200e+06  1.092509e+07  8.867946e+06   \n",
       "min  -1.283245e+06  ... -9.724415e+08 -1.953236e+09 -1.914960e+09   \n",
       "25%   0.000000e+00  ... -3.990000e+02 -1.075900e+04 -2.165000e+04   \n",
       "50%   0.000000e+00  ...  0.000000e+00  4.058400e+04  1.088800e+04   \n",
       "75%   2.082000e+04  ...  3.855000e+03  1.680972e+05  8.528850e+04   \n",
       "max   2.707827e+10  ...  1.849907e+09  3.142607e+09  2.314332e+09   \n",
       "\n",
       "         days_rec        ebitda         roa         roe        wc_net  \\\n",
       "mean    84.886815  6.070971e+05    2.914601    4.060562  1.133337e+06   \n",
       "std    167.310720  1.507074e+07   10.233800   28.870051  2.009072e+07   \n",
       "min   -499.410000 -5.435868e+09 -963.900000 -150.000000 -4.130538e+09   \n",
       "25%     -3.720000  4.004000e+04    0.110000   -1.500000 -1.009900e+05   \n",
       "50%     66.420000  1.504030e+05    2.390000    2.560000  3.669130e+05   \n",
       "75%    158.490000  3.813440e+05    5.200000   13.150000  1.374780e+06   \n",
       "max   2295.840000  4.227442e+09  907.560000  149.990000  3.768695e+09   \n",
       "\n",
       "        margin_fin  cf_operations  \n",
       "mean -1.381130e+06   4.041489e+05  \n",
       "std   6.858357e+07   1.202904e+07  \n",
       "min  -3.204300e+10  -1.914280e+09  \n",
       "25%  -1.118978e+06   4.902000e+03  \n",
       "50%  -1.019600e+05   7.604500e+04  \n",
       "75%   3.470322e+05   2.393900e+05  \n",
       "max   1.830129e+09   3.377050e+09  \n",
       "\n",
       "[7 rows x 36 columns]"
      ]
     },
     "execution_count": 22,
     "metadata": {},
     "output_type": "execute_result"
    }
   ],
   "source": [
    "train.iloc[: , 6:].describe()[1:]"
   ]
  },
  {
   "cell_type": "markdown",
   "id": "467c8eb8",
   "metadata": {},
   "source": [
    "<b> Calcuate Ratios: </b>\n",
    "\n",
    "Leverage: total debt/total equity or total debt/total assets  \n",
    "Altman's Approach: \n",
    "- Working Capital / Total Assets \n",
    "- EBIT/Total Assets  \n",
    "\n",
    "Beaver's Approach\n",
    "- Cash Flow/Total Debt "
   ]
  },
  {
   "cell_type": "code",
   "execution_count": 7,
   "id": "f27c3c03",
   "metadata": {},
   "outputs": [
    {
     "data": {
      "text/plain": [
       "Index(['id', 'stmt_date', 'HQ_city', 'legal_struct', 'ateco_sector',\n",
       "       'def_date', 'fs_year', 'asst_intang_fixed', 'asst_tang_fixed',\n",
       "       'asst_fixed_fin', 'asst_current', 'AR', 'cash_and_equiv', 'asst_tot',\n",
       "       'eqty_tot', 'liab_lt', 'liab_lt_emp', 'debt_bank_st', 'debt_bank_lt',\n",
       "       'debt_fin_st', 'debt_fin_lt', 'AP_st', 'AP_lt', 'debt_st', 'debt_lt',\n",
       "       'rev_operating', 'COGS', 'prof_operations', 'goodwill', 'inc_financing',\n",
       "       'exp_financing', 'prof_financing', 'inc_extraord', 'taxes', 'profit',\n",
       "       'days_rec', 'ebitda', 'roa', 'roe', 'wc_net', 'margin_fin',\n",
       "       'cf_operations'],\n",
       "      dtype='object')"
      ]
     },
     "execution_count": 7,
     "metadata": {},
     "output_type": "execute_result"
    }
   ],
   "source": [
    "train.columns"
   ]
  },
  {
   "cell_type": "code",
   "execution_count": 8,
   "id": "1802e7bd",
   "metadata": {},
   "outputs": [
    {
     "data": {
      "text/plain": [
       "0"
      ]
     },
     "execution_count": 8,
     "metadata": {},
     "output_type": "execute_result"
    }
   ],
   "source": [
    "np.isinf(train[\"cf_operations\"]).sum()"
   ]
  },
  {
   "cell_type": "code",
   "execution_count": 32,
   "id": "2a5a7851",
   "metadata": {},
   "outputs": [],
   "source": [
    "train[\"cf_to_debt\"] = train.cf_operations / (train.debt_st + train.debt_lt)\n",
    "train[\"debt_ratio\"] = (train.debt_st + train.debt_lt) / train.asst_tot\n",
    "train['ebitda_ta'] = train.ebitda / train.asst_tot\n",
    "train['fin_lev'] = train.roa - train.roe\n",
    "train['wc_ta'] = train.wc_net / train.asst_tot"
   ]
  },
  {
   "cell_type": "code",
   "execution_count": 33,
   "id": "3b6f32a6",
   "metadata": {},
   "outputs": [
    {
     "data": {
      "text/html": [
       "<div>\n",
       "<style scoped>\n",
       "    .dataframe tbody tr th:only-of-type {\n",
       "        vertical-align: middle;\n",
       "    }\n",
       "\n",
       "    .dataframe tbody tr th {\n",
       "        vertical-align: top;\n",
       "    }\n",
       "\n",
       "    .dataframe thead th {\n",
       "        text-align: right;\n",
       "    }\n",
       "</style>\n",
       "<table border=\"1\" class=\"dataframe\">\n",
       "  <thead>\n",
       "    <tr style=\"text-align: right;\">\n",
       "      <th></th>\n",
       "      <th>cf_to_debt</th>\n",
       "      <th>debt_ratio</th>\n",
       "      <th>ebitda_ta</th>\n",
       "      <th>fin_lev</th>\n",
       "      <th>wc_ta</th>\n",
       "    </tr>\n",
       "  </thead>\n",
       "  <tbody>\n",
       "    <tr>\n",
       "      <th>cf_to_debt</th>\n",
       "      <td>1.000000</td>\n",
       "      <td>0.946322</td>\n",
       "      <td>0.991825</td>\n",
       "      <td>0.915504</td>\n",
       "      <td>0.998765</td>\n",
       "    </tr>\n",
       "    <tr>\n",
       "      <th>debt_ratio</th>\n",
       "      <td>0.946322</td>\n",
       "      <td>1.000000</td>\n",
       "      <td>0.183675</td>\n",
       "      <td>0.920339</td>\n",
       "      <td>0.263785</td>\n",
       "    </tr>\n",
       "    <tr>\n",
       "      <th>ebitda_ta</th>\n",
       "      <td>0.991825</td>\n",
       "      <td>0.183675</td>\n",
       "      <td>1.000000</td>\n",
       "      <td>0.552695</td>\n",
       "      <td>0.996607</td>\n",
       "    </tr>\n",
       "    <tr>\n",
       "      <th>fin_lev</th>\n",
       "      <td>0.915504</td>\n",
       "      <td>0.920339</td>\n",
       "      <td>0.552695</td>\n",
       "      <td>1.000000</td>\n",
       "      <td>0.619323</td>\n",
       "    </tr>\n",
       "    <tr>\n",
       "      <th>wc_ta</th>\n",
       "      <td>0.998765</td>\n",
       "      <td>0.263785</td>\n",
       "      <td>0.996607</td>\n",
       "      <td>0.619323</td>\n",
       "      <td>1.000000</td>\n",
       "    </tr>\n",
       "  </tbody>\n",
       "</table>\n",
       "</div>"
      ],
      "text/plain": [
       "            cf_to_debt  debt_ratio  ebitda_ta   fin_lev     wc_ta\n",
       "cf_to_debt    1.000000    0.946322   0.991825  0.915504  0.998765\n",
       "debt_ratio    0.946322    1.000000   0.183675  0.920339  0.263785\n",
       "ebitda_ta     0.991825    0.183675   1.000000  0.552695  0.996607\n",
       "fin_lev       0.915504    0.920339   0.552695  1.000000  0.619323\n",
       "wc_ta         0.998765    0.263785   0.996607  0.619323  1.000000"
      ]
     },
     "execution_count": 33,
     "metadata": {},
     "output_type": "execute_result"
    }
   ],
   "source": [
    "train.iloc[: , -5:].describe()[1:].corr()"
   ]
  },
  {
   "cell_type": "code",
   "execution_count": 25,
   "id": "a360bfd8",
   "metadata": {},
   "outputs": [],
   "source": [
    "train.head()\n",
    "# train[\"leverage_1\"] = 1 - train.eqty_tot / train.asst_tot\n",
    "# tmp = train[~train[\"cf_to_debt\"].isin([np.nan, np.inf, -np.inf])]"
   ]
  },
  {
   "cell_type": "markdown",
   "id": "13b59ded",
   "metadata": {},
   "source": [
    "<b> Multicollinearity: "
   ]
  },
  {
   "cell_type": "code",
   "execution_count": 27,
   "id": "ab80d048",
   "metadata": {},
   "outputs": [
    {
     "data": {
      "text/html": [
       "<div>\n",
       "<style scoped>\n",
       "    .dataframe tbody tr th:only-of-type {\n",
       "        vertical-align: middle;\n",
       "    }\n",
       "\n",
       "    .dataframe tbody tr th {\n",
       "        vertical-align: top;\n",
       "    }\n",
       "\n",
       "    .dataframe thead th {\n",
       "        text-align: right;\n",
       "    }\n",
       "</style>\n",
       "<table border=\"1\" class=\"dataframe\">\n",
       "  <thead>\n",
       "    <tr style=\"text-align: right;\">\n",
       "      <th></th>\n",
       "      <th>level_0</th>\n",
       "      <th>level_1</th>\n",
       "      <th>correlation</th>\n",
       "    </tr>\n",
       "  </thead>\n",
       "  <tbody>\n",
       "    <tr>\n",
       "      <th>5</th>\n",
       "      <td>rev_operating</td>\n",
       "      <td>COGS</td>\n",
       "      <td>0.996275</td>\n",
       "    </tr>\n",
       "    <tr>\n",
       "      <th>7</th>\n",
       "      <td>taxes</td>\n",
       "      <td>profit</td>\n",
       "      <td>0.968024</td>\n",
       "    </tr>\n",
       "    <tr>\n",
       "      <th>1</th>\n",
       "      <td>asst_tang_fixed</td>\n",
       "      <td>eqty_tot</td>\n",
       "      <td>0.933470</td>\n",
       "    </tr>\n",
       "    <tr>\n",
       "      <th>3</th>\n",
       "      <td>asst_current</td>\n",
       "      <td>debt_st</td>\n",
       "      <td>0.933309</td>\n",
       "    </tr>\n",
       "    <tr>\n",
       "      <th>0</th>\n",
       "      <td>asst_tang_fixed</td>\n",
       "      <td>asst_tot</td>\n",
       "      <td>0.932832</td>\n",
       "    </tr>\n",
       "    <tr>\n",
       "      <th>2</th>\n",
       "      <td>asst_current</td>\n",
       "      <td>AR</td>\n",
       "      <td>0.932226</td>\n",
       "    </tr>\n",
       "    <tr>\n",
       "      <th>4</th>\n",
       "      <td>asst_tot</td>\n",
       "      <td>eqty_tot</td>\n",
       "      <td>0.929916</td>\n",
       "    </tr>\n",
       "    <tr>\n",
       "      <th>6</th>\n",
       "      <td>prof_operations</td>\n",
       "      <td>ebitda</td>\n",
       "      <td>0.928359</td>\n",
       "    </tr>\n",
       "    <tr>\n",
       "      <th>8</th>\n",
       "      <td>roa</td>\n",
       "      <td>ebit_ta</td>\n",
       "      <td>0.920224</td>\n",
       "    </tr>\n",
       "  </tbody>\n",
       "</table>\n",
       "</div>"
      ],
      "text/plain": [
       "           level_0   level_1  correlation\n",
       "5    rev_operating      COGS     0.996275\n",
       "7            taxes    profit     0.968024\n",
       "1  asst_tang_fixed  eqty_tot     0.933470\n",
       "3     asst_current   debt_st     0.933309\n",
       "0  asst_tang_fixed  asst_tot     0.932832\n",
       "2     asst_current        AR     0.932226\n",
       "4         asst_tot  eqty_tot     0.929916\n",
       "6  prof_operations    ebitda     0.928359\n",
       "8              roa   ebit_ta     0.920224"
      ]
     },
     "execution_count": 27,
     "metadata": {},
     "output_type": "execute_result"
    }
   ],
   "source": [
    "import warnings\n",
    "warnings.filterwarnings(\"ignore\")\n",
    "\n",
    "corr_coeffs = train.corr(method='pearson')\n",
    "corr_coeffs = corr_coeffs.mask(np.tril(np.ones(corr_coeffs.shape)).astype(np.bool))\n",
    "\n",
    "corr_coeffs = corr_coeffs[abs(corr_coeffs) >= 0.9].stack().reset_index().rename(columns={0:'correlation'}).sort_values(by='correlation', ascending=False)\n",
    "corr_coeffs"
   ]
  },
  {
   "cell_type": "code",
   "execution_count": 58,
   "id": "f1200aa2",
   "metadata": {},
   "outputs": [
    {
     "name": "stdout",
     "output_type": "stream",
     "text": [
      "           feature         VIF\n",
      "0    rev_operating  298.013336\n",
      "1             COGS  289.823014\n",
      "2           profit   18.800414\n",
      "3            taxes   22.836126\n",
      "4  asst_tang_fixed    8.601756\n",
      "5         eqty_tot    9.442013\n",
      "6     asst_current    9.339670\n",
      "7          debt_st    8.862069\n"
     ]
    }
   ],
   "source": [
    "# VIF dataframe\n",
    "from statsmodels.stats.outliers_influence import variance_inflation_factor\n",
    "\n",
    "X = train[['rev_operating', 'COGS', 'profit', 'taxes', 'asst_tang_fixed', 'eqty_tot', 'asst_current', 'debt_st']]\n",
    "X = X[~X.isin([np.nan, np.inf, -np.inf]).any(1)]\n",
    "# X = train.iloc[: , 7:][~train.iloc[: , 7:].isin([np.nan, np.inf, -np.inf]).any(1)]\n",
    "\n",
    "# # VIF dataframe\n",
    "vif_data = pd.DataFrame()\n",
    "vif_data[\"feature\"] = X.columns\n",
    "  \n",
    "# calculating VIF for each feature\n",
    "vif_data[\"VIF\"] = [variance_inflation_factor(X.values, i)\n",
    "                          for i in range(len(X.columns))]\n",
    "print(vif_data)  \n",
    "# print(vif_data[vif_data.VIF > 5])"
   ]
  },
  {
   "cell_type": "markdown",
   "id": "4daf6ab1",
   "metadata": {},
   "source": [
    "#### Fiscal Years:"
   ]
  },
  {
   "cell_type": "code",
   "execution_count": 29,
   "id": "c4cb65b9",
   "metadata": {},
   "outputs": [],
   "source": [
    "train['default_year'] = [date.year for date in pd.to_datetime(train['def_date'], format = \"%d/%m/%Y\")]\n",
    "train['y_it'] = np.logical_and(train.default_year.notna(), train['fs_year'] + 1 >= train.default_year).astype(int)"
   ]
  },
  {
   "cell_type": "code",
   "execution_count": 30,
   "id": "3768b0cf",
   "metadata": {},
   "outputs": [
    {
     "data": {
      "text/plain": [
       "0    1012008\n",
       "1      11544\n",
       "Name: y_it, dtype: int64"
      ]
     },
     "execution_count": 30,
     "metadata": {},
     "output_type": "execute_result"
    }
   ],
   "source": [
    "train.y_it.value_counts()"
   ]
  },
  {
   "cell_type": "markdown",
   "id": "f6874b85",
   "metadata": {},
   "source": [
    "#### String Variables: \n",
    "- HQ_city\n",
    "- legal_struct\t\n",
    "- ateco_sector"
   ]
  },
  {
   "cell_type": "markdown",
   "id": "a74015ed",
   "metadata": {},
   "source": [
    "<b> Transformations: "
   ]
  },
  {
   "cell_type": "code",
   "execution_count": null,
   "id": "d7c3b202",
   "metadata": {},
   "outputs": [],
   "source": []
  },
  {
   "cell_type": "code",
   "execution_count": null,
   "id": "d26b3a1c",
   "metadata": {},
   "outputs": [],
   "source": [
    "# def walk_forward_harness(df, start, num_features, step_size=1):\n",
    "# #             preprocessor, estimator, predictor,  date_col = 'Date', step_size = 1):     \n",
    "#     '''\n",
    "#     input: \n",
    "#         start: a date index value after which to start the walk-forward test\n",
    "#         date_col: the column index of the column in df that holds the date information for each row\n",
    "#         step_siz: the number of time units to move forward in each walk-forward step.\n",
    "        \n",
    "#     output: \n",
    "#         predictions:a vector of predictions of the same length as the number of rows in new_df. \n",
    "#         model_list: a list of models, one for each walk-forward step, of length equal to the number of walk-forward steps \n",
    "#         stats_list: a list of statistics (possibly a list of lists or tupples), with one entry for each walk-forward step,\n",
    "#                     of length equal to the number of walk-forward step\n",
    "#     '''\n",
    "    \n",
    "#     #step 6: Repeat steps 1 through 5, adding the new predictions to the result set for every year\n",
    "\n",
    "#     #start is some year \n",
    "#     fs_year = df.index.map(lambda shape: shape[0])\n",
    "#     years = np.unique(fs_year)\n",
    "#     print(years)\n",
    "#     idx = int(np.where(years == start)[0])\n",
    "    \n",
    "#     model_list = []\n",
    "#     results = {'actual': [], 'preds': []}  \n",
    "    \n",
    "#     for step in range(0, len(years[idx:])):\n",
    "#         if start == years[-1]:\n",
    "#             break\n",
    "#         print(\"Iteration:\", step)\n",
    "#         print(\"\")\n",
    "#         start_time = time.time()\n",
    "\n",
    "#         #step 1: separate data between train, test and preprocess \n",
    "#         df['in_train'] = ['train' if row <= start else 'test' if row == start+1 else 'no_use'  \n",
    "#                             for row in fs_year]\n",
    "        \n",
    "#         X_train = df.loc[df['in_train'] == 'train'].iloc[:,:num_features]\n",
    "#         y_train = df.loc[df['in_train'] == 'train'].iloc[:,num_features]\n",
    "        \n",
    "#         X_test = df.loc[df['in_train'] == 'test'].iloc[:,:num_features]\n",
    "#         y_test = list(df.loc[df['in_train'] == 'test'].iloc[:,num_features])\n",
    "#         results['actual'].append(y_test)\n",
    "        \n",
    "#         #step 2: Train and fit the model using all the data available on or before the selected year.\n",
    "#         model = LogisticRegression().fit(X_train, y_train)\n",
    "#         model_list.append(model)\n",
    "     \n",
    "#         #step 3: generate the model outputs for all the firms available during the following year (in this example 1998)\n",
    "#         #step 4: Save the prediction as part of a result set.\n",
    "#         y_preds = model.predict_proba(X_test)\n",
    "#         results['preds'].append(list(y_preds))\n",
    "    \n",
    "#         #step 5. Now move the window up (e.g., to 1998) so that all the data through\n",
    "#         start += step_size \n",
    "#         print(\"--- %s seconds ---\" % (time.time() - start_time))\n",
    "    \n",
    "#     actuals  = [item for sublist in results['actual'] for item in sublist]\n",
    "#     predictions  = [item for sublist in results['preds'] for item in sublist]\n",
    " \n",
    "#     return actuals, predictions, model_list"
   ]
  },
  {
   "cell_type": "code",
   "execution_count": null,
   "id": "2ea22b43",
   "metadata": {},
   "outputs": [],
   "source": []
  }
 ],
 "metadata": {
  "kernelspec": {
   "display_name": "Python 3 (ipykernel)",
   "language": "python",
   "name": "python3"
  },
  "language_info": {
   "codemirror_mode": {
    "name": "ipython",
    "version": 3
   },
   "file_extension": ".py",
   "mimetype": "text/x-python",
   "name": "python",
   "nbconvert_exporter": "python",
   "pygments_lexer": "ipython3",
   "version": "3.9.12"
  },
  "vscode": {
   "interpreter": {
    "hash": "beb8eea8248feb78f53f2d9d9ed3f182c837e9f795a2bfe96bda553231c2b318"
   }
  }
 },
 "nbformat": 4,
 "nbformat_minor": 5
}
