{
 "cells": [
  {
   "cell_type": "code",
   "execution_count": null,
   "id": "e5850d65",
   "metadata": {},
   "outputs": [],
   "source": [
    "# pip install xgboost"
   ]
  },
  {
   "cell_type": "code",
   "execution_count": null,
   "id": "1ccbd828",
   "metadata": {},
   "outputs": [],
   "source": [
    "# y = indicates if the firm has defaulted by time t "
   ]
  },
  {
   "cell_type": "code",
   "execution_count": 2,
   "id": "b952b3f3",
   "metadata": {},
   "outputs": [],
   "source": [
    "import datetime\n",
    "import time\n",
    "import pandas as pd\n",
    "import numpy as np\n",
    "import seaborn as sns \n",
    "import matplotlib.pyplot as plt \n",
    "from sklearn.linear_model import LogisticRegression\n",
    "from statsmodels.gam.api import GLMGam, BSplines #GLMGam Generalized Additive Models (GAM)\n",
    "from xgboost import XGBClassifier\n",
    "from sklearn.svm import SVC\n",
    "import statsmodels.api as sms\n",
    "from sklearn.pipeline import make_pipeline\n",
    "from sklearn.metrics import roc_auc_score"
   ]
  },
  {
   "cell_type": "code",
   "execution_count": 24,
   "id": "1c1fc14a",
   "metadata": {},
   "outputs": [
    {
     "name": "stdout",
     "output_type": "stream",
     "text": [
      "Raw data: (1023552, 44)\n"
     ]
    }
   ],
   "source": [
    "train = pd.read_csv(\"/Users/khevnaparikh/Desktop/Finance/Probability-of-Default-/train.csv\")\n",
    "print(\"Raw data:\", train.shape)"
   ]
  },
  {
   "cell_type": "code",
   "execution_count": 25,
   "id": "bf30f00e",
   "metadata": {},
   "outputs": [
    {
     "name": "stderr",
     "output_type": "stream",
     "text": [
      "/Users/khevnaparikh/opt/anaconda3/lib/python3.9/site-packages/pandas/core/arraylike.py:397: RuntimeWarning: divide by zero encountered in log\n",
      "  result = getattr(ufunc, method)(*inputs, **kwargs)\n",
      "/Users/khevnaparikh/opt/anaconda3/lib/python3.9/site-packages/pandas/core/arraylike.py:397: RuntimeWarning: invalid value encountered in log\n",
      "  result = getattr(ufunc, method)(*inputs, **kwargs)\n"
     ]
    }
   ],
   "source": [
    "engineered = pd.DataFrame([], index=train.index)\n",
    "\n",
    "engineered[\"cf_to_debt\"] = train.cf_operations / (train.debt_st + train.debt_lt)\n",
    "engineered[\"debt_ratio\"] = (train.debt_st + train.debt_lt) / train.asst_tot\n",
    "engineered['ebitda_ta'] = train.ebitda / train.asst_tot\n",
    "engineered['wc_ta'] = train.wc_net / train.asst_tot\n",
    "# engineered['profit'] = train.profit # above 5 variables auc score = .80\n",
    "engineered['log_AP_st'] = np.log(train.AP_st)\n",
    "engineered['log_current_assets'] = train.debt_st / train.asst_current"
   ]
  },
  {
   "cell_type": "code",
   "execution_count": 29,
   "id": "ab77a7d5",
   "metadata": {},
   "outputs": [
    {
     "data": {
      "text/html": [
       "<div>\n",
       "<style scoped>\n",
       "    .dataframe tbody tr th:only-of-type {\n",
       "        vertical-align: middle;\n",
       "    }\n",
       "\n",
       "    .dataframe tbody tr th {\n",
       "        vertical-align: top;\n",
       "    }\n",
       "\n",
       "    .dataframe thead th {\n",
       "        text-align: right;\n",
       "    }\n",
       "</style>\n",
       "<table border=\"1\" class=\"dataframe\">\n",
       "  <thead>\n",
       "    <tr style=\"text-align: right;\">\n",
       "      <th></th>\n",
       "      <th>cf_to_debt</th>\n",
       "      <th>debt_ratio</th>\n",
       "      <th>ebitda_ta</th>\n",
       "      <th>wc_ta</th>\n",
       "      <th>log_AP_st</th>\n",
       "      <th>log_current_assets</th>\n",
       "    </tr>\n",
       "  </thead>\n",
       "  <tbody>\n",
       "    <tr>\n",
       "      <th>std</th>\n",
       "      <td>NaN</td>\n",
       "      <td>0.345721</td>\n",
       "      <td>1.483310</td>\n",
       "      <td>0.353475</td>\n",
       "      <td>NaN</td>\n",
       "      <td>NaN</td>\n",
       "    </tr>\n",
       "    <tr>\n",
       "      <th>min</th>\n",
       "      <td>-inf</td>\n",
       "      <td>-0.414003</td>\n",
       "      <td>-1307.371779</td>\n",
       "      <td>-56.144887</td>\n",
       "      <td>-inf</td>\n",
       "      <td>-36.332004</td>\n",
       "    </tr>\n",
       "    <tr>\n",
       "      <th>25%</th>\n",
       "      <td>0.001893</td>\n",
       "      <td>0.489164</td>\n",
       "      <td>0.012229</td>\n",
       "      <td>-0.028460</td>\n",
       "      <td>11.407576</td>\n",
       "      <td>0.468847</td>\n",
       "    </tr>\n",
       "    <tr>\n",
       "      <th>50%</th>\n",
       "      <td>0.032834</td>\n",
       "      <td>0.746079</td>\n",
       "      <td>0.042773</td>\n",
       "      <td>0.101744</td>\n",
       "      <td>13.134754</td>\n",
       "      <td>0.806976</td>\n",
       "    </tr>\n",
       "    <tr>\n",
       "      <th>75%</th>\n",
       "      <td>0.097535</td>\n",
       "      <td>0.909270</td>\n",
       "      <td>0.082189</td>\n",
       "      <td>0.325414</td>\n",
       "      <td>14.124722</td>\n",
       "      <td>1.080004</td>\n",
       "    </tr>\n",
       "    <tr>\n",
       "      <th>max</th>\n",
       "      <td>inf</td>\n",
       "      <td>97.077776</td>\n",
       "      <td>9.081566</td>\n",
       "      <td>5.343304</td>\n",
       "      <td>22.137673</td>\n",
       "      <td>inf</td>\n",
       "    </tr>\n",
       "  </tbody>\n",
       "</table>\n",
       "</div>"
      ],
      "text/plain": [
       "     cf_to_debt  debt_ratio    ebitda_ta      wc_ta  log_AP_st  \\\n",
       "std         NaN    0.345721     1.483310   0.353475        NaN   \n",
       "min        -inf   -0.414003 -1307.371779 -56.144887       -inf   \n",
       "25%    0.001893    0.489164     0.012229  -0.028460  11.407576   \n",
       "50%    0.032834    0.746079     0.042773   0.101744  13.134754   \n",
       "75%    0.097535    0.909270     0.082189   0.325414  14.124722   \n",
       "max         inf   97.077776     9.081566   5.343304  22.137673   \n",
       "\n",
       "     log_current_assets  \n",
       "std                 NaN  \n",
       "min          -36.332004  \n",
       "25%            0.468847  \n",
       "50%            0.806976  \n",
       "75%            1.080004  \n",
       "max                 inf  "
      ]
     },
     "execution_count": 29,
     "metadata": {},
     "output_type": "execute_result"
    }
   ],
   "source": [
    "engineered.describe()[2:]"
   ]
  },
  {
   "cell_type": "code",
   "execution_count": 2,
   "id": "4f6cc21b",
   "metadata": {},
   "outputs": [],
   "source": [
    "#function to handle all the preprocessing\n",
    "def preprocess_data(df): \n",
    "    \n",
    "    #pandas indexes automatically, so we remove the unnamed columns, \n",
    "    #we remove eqty_corp_family_tot since all rows are nans\n",
    "    #fiscal year contains the same information as stmt_date so we will remove this as well\n",
    "    df.drop(columns = ['Unnamed: 0', 'eqty_corp_family_tot', 'stmt_date'], inplace=True)\n",
    "    \n",
    "    #convert data types of certain variables\n",
    "    df['def_date'] = pd.to_datetime(df[\"def_date\"] , format = \"%d/%m/%Y\")\n",
    "    df['ateco_sector'] = df['ateco_sector'].astype(int)\n",
    "    \n",
    "    # Sort the data by company ID and fiscal year to prevent potential look-ahead bias\n",
    "    df.sort_values([\"fs_year\", \"id\"], inplace=True)\n",
    "    df.reset_index(drop=True , inplace=True)\n",
    "    \n",
    "    #create a target variable 87e=True)\n",
    "    df['target'] = np.logical_and(df[\"def_date\"].notna(), \n",
    "                               df[\"fs_year\"] + 1 >= df[\"def_date\"].dt.year).astype(int)\n",
    "\n",
    "#     df = df.join(pd.get_dummies(df['legal_struct']))\n",
    "    \n",
    "    #Because the (fiscal year, company ID) pair uniquely identifies each row, make it the index    \n",
    "    df.set_index([\"fs_year\", \"id\"], inplace=True)\n",
    "    \n",
    "    print(\"Preprocessed data:\", df.shape)\n",
    "    \n",
    "    return df \n",
    "    "
   ]
  },
  {
   "cell_type": "code",
   "execution_count": null,
   "id": "844bb0db",
   "metadata": {},
   "outputs": [],
   "source": [
    "# train = pd.read_csv(\"/Users/khevnaparikh/Desktop/Finance/Probability-of-Default-/train.csv\")"
   ]
  },
  {
   "cell_type": "code",
   "execution_count": 3,
   "id": "8a1d27a6",
   "metadata": {},
   "outputs": [],
   "source": [
    "# tmp = train.groupby('target').median().T\n",
    "# tmp['pct_diff'] = tmp.pct_change(axis='columns')[1]\n",
    "# tmp.sort_values(by=['pct_diff'])"
   ]
  },
  {
   "cell_type": "code",
   "execution_count": 4,
   "id": "26d1708b",
   "metadata": {},
   "outputs": [],
   "source": [
    "# fill in Nans using interpolation \n",
    "def impute(df):\n",
    "    fields = ['wc_net', 'asst_tot', 'ebitda', 'eqty_tot', 'cf_operations', \n",
    "              'taxes','debt_st', 'debt_lt', 'debt_bank_lt', 'liab_lt', \n",
    "              'liab_lt_emp', 'AP_lt', 'roe', 'roa', 'prof_financing', \n",
    "              'exp_financing']\n",
    "    print(\"Number of fields to impute:\", len(fields))\n",
    "    \n",
    "    firm_indices = [x[1] for x in df.index]\n",
    "    companies = np.unique(firm_indices)\n",
    "\n",
    "    # Impute NaNs based on interpolation method\n",
    "    map(lambda firm: df.loc[firm_indices == firm, fields].interpolate(\n",
    "    limit_direction=\"forward\", inplace=True), companies)\n",
    "    \n",
    "    return df"
   ]
  },
  {
   "cell_type": "code",
   "execution_count": 107,
   "id": "37215389",
   "metadata": {},
   "outputs": [],
   "source": [
    "def engineer_features(df):\n",
    "    # Create a dataframe of features that will be used by the model\n",
    "    engineered = pd.DataFrame([], index=df.index)\n",
    "\n",
    "    # Calculate features\n",
    "    engineered[\"cf_to_debt\"] = df.cf_operations / (df.debt_st + df.debt_lt)\n",
    "    engineered[\"debt_ratio\"] = (df.debt_st + df.debt_lt) / df.asst_tot\n",
    "    engineered['ebitda_ta'] = df.ebitda / df.asst_tot\n",
    "    engineered['wc_ta'] = df.wc_net / df.asst_tot\n",
    "    engineered['profit'] = df.profit # above 5 variables auc score = .80\n",
    "    engineered['log_AP_st'] = np.log(df.AP_st)\n",
    "    engineered['log_current_assets'] = df.debt_st / df.asst_current\n",
    "#     engineered['target']  = df.target\n",
    "    \n",
    "#     engineered['cf_operations'] =  np.log(df.cf_operations)\n",
    "    engineered['roe'] = np.log(df.roe)\n",
    "    engineered['roa'] = np.log(df.roa)\n",
    "    engineered['eqty_tot'] = np.log(df.eqty_tot)\n",
    "    engineered['asst_tang_fixed'] = np.log(df.asst_tang_fixed)\n",
    "#     engineered['ebitda'] = np.log(df.ebitda)\n",
    "    \n",
    "    engineered['target']  = df.target\n",
    "    \n",
    "    \n",
    "#     engineered['debt_st_curr_asset'] = df.debt_st / df.asst_current\n",
    "        #auc w/profit & above variable - .68\n",
    "        #auc w/o profit & above variable - .75\n",
    "\n",
    "    \n",
    "    \n",
    "#firm size\n",
    "#geographic location - make no difference \n",
    "#defualts for one year - examin short term debt/libabilites/assets \n",
    "#one hot encode - legal structure\"\", \n",
    "    \n",
    "\n",
    "    # Delete rows that have any undefined ratios (infinity or NaN)\n",
    "    # The mask is an array of booleans, such that if mask[i] = True, it means\n",
    "    # we delete row i.\n",
    "    \n",
    "    is_inf = np.isinf(engineered)\n",
    "    is_nan = np.isnan(engineered)\n",
    "    mask = np.any(np.logical_or(is_inf, is_nan), axis=1)\n",
    "    engineered.drop(index=engineered.index[mask], inplace=True)\n",
    "    \n",
    "    return engineered\n"
   ]
  },
  {
   "cell_type": "code",
   "execution_count": 108,
   "id": "f948d200",
   "metadata": {},
   "outputs": [],
   "source": [
    "def walk_forward(df): \n",
    "    \"\"\"\n",
    "    Walk-forward algorithm:\n",
    "\n",
    "    1) Train the model on all observations from the beginning up until year t.\n",
    "    2) Use the trained model to make predictions on observations from year t + 1.\n",
    "    3) Save the predictions in an array.\n",
    "    4) Increment t by 1 and repeat steps 1 to 3.\n",
    "    \"\"\"\n",
    "    \n",
    "    features = df.iloc[:,:9]\n",
    "    target = df.iloc[:,9]\n",
    "    \n",
    "    fs_year = features.index.map(lambda pair: pair[0])\n",
    "    years = np.unique(fs_year)[:-1]\n",
    "    \n",
    "\n",
    "    # Select part of the data for training\n",
    "    X_trains = map(lambda t: features[fs_year <= t], years)\n",
    "    y_trains = map(lambda t: target[fs_year <= t], years)\n",
    "\n",
    "    # Train models\n",
    "    models = map(lambda X, y: LogisticRegression().fit(X, y), X_trains, y_trains)\n",
    "    \n",
    "    # Select part of the data for testing\n",
    "    X_tests = map(lambda t: features[fs_year == t+1], years)\n",
    "    y_tests = map(lambda t: target[fs_year == t+1], years)\n",
    "    \n",
    "    # Ground truth\n",
    "    true = np.hstack(list(y_tests))\n",
    "\n",
    "    # Compute predictions\n",
    "    pred = map(lambda model, X: model.predict_proba(X), models, X_tests)\n",
    "    pred = np.concatenate(list(pred))\n",
    "    return true, pred"
   ]
  },
  {
   "cell_type": "code",
   "execution_count": 109,
   "id": "281484d9",
   "metadata": {},
   "outputs": [
    {
     "name": "stdout",
     "output_type": "stream",
     "text": [
      "Raw data: (1023552, 44)\n",
      "Preprocessed data: (1023552, 40)\n",
      "Number of fields to impute: 16\n"
     ]
    },
    {
     "name": "stderr",
     "output_type": "stream",
     "text": [
      "/Users/khevnaparikh/opt/anaconda3/lib/python3.9/site-packages/pandas/core/arraylike.py:397: RuntimeWarning: divide by zero encountered in log\n",
      "  result = getattr(ufunc, method)(*inputs, **kwargs)\n",
      "/Users/khevnaparikh/opt/anaconda3/lib/python3.9/site-packages/pandas/core/arraylike.py:397: RuntimeWarning: invalid value encountered in log\n",
      "  result = getattr(ufunc, method)(*inputs, **kwargs)\n",
      "/Users/khevnaparikh/opt/anaconda3/lib/python3.9/site-packages/pandas/core/arraylike.py:397: RuntimeWarning: divide by zero encountered in log\n",
      "  result = getattr(ufunc, method)(*inputs, **kwargs)\n",
      "/Users/khevnaparikh/opt/anaconda3/lib/python3.9/site-packages/pandas/core/arraylike.py:397: RuntimeWarning: invalid value encountered in log\n",
      "  result = getattr(ufunc, method)(*inputs, **kwargs)\n",
      "/Users/khevnaparikh/opt/anaconda3/lib/python3.9/site-packages/pandas/core/arraylike.py:397: RuntimeWarning: divide by zero encountered in log\n",
      "  result = getattr(ufunc, method)(*inputs, **kwargs)\n",
      "/Users/khevnaparikh/opt/anaconda3/lib/python3.9/site-packages/pandas/core/arraylike.py:397: RuntimeWarning: invalid value encountered in log\n",
      "  result = getattr(ufunc, method)(*inputs, **kwargs)\n",
      "/Users/khevnaparikh/opt/anaconda3/lib/python3.9/site-packages/pandas/core/arraylike.py:397: RuntimeWarning: divide by zero encountered in log\n",
      "  result = getattr(ufunc, method)(*inputs, **kwargs)\n",
      "/Users/khevnaparikh/opt/anaconda3/lib/python3.9/site-packages/pandas/core/arraylike.py:397: RuntimeWarning: invalid value encountered in log\n",
      "  result = getattr(ufunc, method)(*inputs, **kwargs)\n"
     ]
    },
    {
     "name": "stdout",
     "output_type": "stream",
     "text": [
      "0.7313459283394587\n"
     ]
    }
   ],
   "source": [
    "train = pd.read_csv(\"/Users/khevnaparikh/Desktop/Finance/Probability-of-Default-/train.csv\")\n",
    "print(\"Raw data:\", train.shape)\n",
    "\n",
    "def harness(df):\n",
    "    preprocessed_df = preprocess_data(df)\n",
    "    imputed_df = impute(preprocessed_df)\n",
    "    engineered_df = engineer_features(imputed_df)\n",
    "    true, pred = walk_forward(engineered_df)\n",
    "    print(roc_auc_score(true, pred[:,1]))\n",
    "    return preprocessed_df\n",
    "\n",
    "df = harness(train)"
   ]
  },
  {
   "cell_type": "code",
   "execution_count": 4,
   "id": "726d05e0",
   "metadata": {},
   "outputs": [],
   "source": [
    "from numpy import loadtxt\n",
    "from xgboost import XGBClassifier\n",
    "from matplotlib import pyplot\n",
    "\n",
    "\n",
    "dataset = pd.read_csv(\"/Users/khevnaparikh/Desktop/Finance/Probability-of-Default-/train.csv\")\n",
    "dataset['def_date'] = pd.to_datetime(dataset[\"def_date\"] , format = \"%d/%m/%Y\")\n",
    "\n",
    "\n",
    "dataset['target'] = np.logical_and(dataset[\"def_date\"].notna(), \n",
    "                               dataset[\"fs_year\"] + 1 >= dataset[\"def_date\"].dt.year).astype(int)\n",
    "\n",
    "dataset.sort_values([\"fs_year\", \"id\"], inplace=True)\n",
    "dataset.reset_index(drop=True , inplace=True)\n",
    "\n",
    "dataset.set_index([\"fs_year\", \"id\"], inplace=True)\n"
   ]
  },
  {
   "cell_type": "code",
   "execution_count": 5,
   "id": "b965976e",
   "metadata": {},
   "outputs": [],
   "source": [
    "dataset.drop(columns = ['Unnamed: 0', 'eqty_corp_family_tot', 'stmt_date'], inplace=True)\n"
   ]
  },
  {
   "cell_type": "code",
   "execution_count": 6,
   "id": "a54a5d3a",
   "metadata": {},
   "outputs": [
    {
     "data": {
      "text/html": [
       "<div>\n",
       "<style scoped>\n",
       "    .dataframe tbody tr th:only-of-type {\n",
       "        vertical-align: middle;\n",
       "    }\n",
       "\n",
       "    .dataframe tbody tr th {\n",
       "        vertical-align: top;\n",
       "    }\n",
       "\n",
       "    .dataframe thead th {\n",
       "        text-align: right;\n",
       "    }\n",
       "</style>\n",
       "<table border=\"1\" class=\"dataframe\">\n",
       "  <thead>\n",
       "    <tr style=\"text-align: right;\">\n",
       "      <th></th>\n",
       "      <th></th>\n",
       "      <th>HQ_city</th>\n",
       "      <th>legal_struct</th>\n",
       "      <th>ateco_sector</th>\n",
       "      <th>def_date</th>\n",
       "      <th>asst_intang_fixed</th>\n",
       "      <th>asst_tang_fixed</th>\n",
       "      <th>asst_fixed_fin</th>\n",
       "      <th>asst_current</th>\n",
       "      <th>AR</th>\n",
       "      <th>cash_and_equiv</th>\n",
       "      <th>...</th>\n",
       "      <th>taxes</th>\n",
       "      <th>profit</th>\n",
       "      <th>days_rec</th>\n",
       "      <th>ebitda</th>\n",
       "      <th>roa</th>\n",
       "      <th>roe</th>\n",
       "      <th>wc_net</th>\n",
       "      <th>margin_fin</th>\n",
       "      <th>cf_operations</th>\n",
       "      <th>target</th>\n",
       "    </tr>\n",
       "    <tr>\n",
       "      <th>fs_year</th>\n",
       "      <th>id</th>\n",
       "      <th></th>\n",
       "      <th></th>\n",
       "      <th></th>\n",
       "      <th></th>\n",
       "      <th></th>\n",
       "      <th></th>\n",
       "      <th></th>\n",
       "      <th></th>\n",
       "      <th></th>\n",
       "      <th></th>\n",
       "      <th></th>\n",
       "      <th></th>\n",
       "      <th></th>\n",
       "      <th></th>\n",
       "      <th></th>\n",
       "      <th></th>\n",
       "      <th></th>\n",
       "      <th></th>\n",
       "      <th></th>\n",
       "      <th></th>\n",
       "      <th></th>\n",
       "    </tr>\n",
       "  </thead>\n",
       "  <tbody>\n",
       "    <tr>\n",
       "      <th rowspan=\"5\" valign=\"top\">2007</th>\n",
       "      <th>520288</th>\n",
       "      <td>28.0</td>\n",
       "      <td>SRL</td>\n",
       "      <td>14.0</td>\n",
       "      <td>NaT</td>\n",
       "      <td>126603.0</td>\n",
       "      <td>1127807.0</td>\n",
       "      <td>620.0</td>\n",
       "      <td>484753.0</td>\n",
       "      <td>455224.0</td>\n",
       "      <td>14279.0</td>\n",
       "      <td>...</td>\n",
       "      <td>92192.0</td>\n",
       "      <td>36733.0</td>\n",
       "      <td>NaN</td>\n",
       "      <td>153060.0</td>\n",
       "      <td>6.20</td>\n",
       "      <td>52.43</td>\n",
       "      <td>-317007.0</td>\n",
       "      <td>-1184970.0</td>\n",
       "      <td>80039.0</td>\n",
       "      <td>0</td>\n",
       "    </tr>\n",
       "    <tr>\n",
       "      <th>1650282</th>\n",
       "      <td>27.0</td>\n",
       "      <td>SRL</td>\n",
       "      <td>25.0</td>\n",
       "      <td>NaT</td>\n",
       "      <td>881316.0</td>\n",
       "      <td>1128642.0</td>\n",
       "      <td>8231.0</td>\n",
       "      <td>9409128.0</td>\n",
       "      <td>7315239.0</td>\n",
       "      <td>2059048.0</td>\n",
       "      <td>...</td>\n",
       "      <td>759122.0</td>\n",
       "      <td>506075.0</td>\n",
       "      <td>-3.19</td>\n",
       "      <td>1097368.0</td>\n",
       "      <td>6.29</td>\n",
       "      <td>16.18</td>\n",
       "      <td>1584139.0</td>\n",
       "      <td>1108702.0</td>\n",
       "      <td>868088.0</td>\n",
       "      <td>0</td>\n",
       "    </tr>\n",
       "    <tr>\n",
       "      <th>2040061</th>\n",
       "      <td>6.0</td>\n",
       "      <td>SPA</td>\n",
       "      <td>46.0</td>\n",
       "      <td>NaT</td>\n",
       "      <td>23162.0</td>\n",
       "      <td>1524285.0</td>\n",
       "      <td>1.0</td>\n",
       "      <td>1410043.0</td>\n",
       "      <td>639403.0</td>\n",
       "      <td>225421.0</td>\n",
       "      <td>...</td>\n",
       "      <td>198366.0</td>\n",
       "      <td>74090.0</td>\n",
       "      <td>163.80</td>\n",
       "      <td>376754.0</td>\n",
       "      <td>8.45</td>\n",
       "      <td>7.22</td>\n",
       "      <td>373261.0</td>\n",
       "      <td>-521839.0</td>\n",
       "      <td>195790.0</td>\n",
       "      <td>0</td>\n",
       "    </tr>\n",
       "    <tr>\n",
       "      <th>2340420</th>\n",
       "      <td>42.0</td>\n",
       "      <td>SRL</td>\n",
       "      <td>47.0</td>\n",
       "      <td>NaT</td>\n",
       "      <td>0.0</td>\n",
       "      <td>58749.0</td>\n",
       "      <td>0.0</td>\n",
       "      <td>1994918.0</td>\n",
       "      <td>747994.0</td>\n",
       "      <td>65405.0</td>\n",
       "      <td>...</td>\n",
       "      <td>42062.0</td>\n",
       "      <td>7679.0</td>\n",
       "      <td>NaN</td>\n",
       "      <td>61648.0</td>\n",
       "      <td>2.17</td>\n",
       "      <td>0.73</td>\n",
       "      <td>1124550.0</td>\n",
       "      <td>993363.0</td>\n",
       "      <td>24385.0</td>\n",
       "      <td>0</td>\n",
       "    </tr>\n",
       "    <tr>\n",
       "      <th>2890408</th>\n",
       "      <td>40.0</td>\n",
       "      <td>SPA</td>\n",
       "      <td>43.0</td>\n",
       "      <td>NaT</td>\n",
       "      <td>2409029.0</td>\n",
       "      <td>31875124.0</td>\n",
       "      <td>59321193.0</td>\n",
       "      <td>144525085.0</td>\n",
       "      <td>97473373.0</td>\n",
       "      <td>8899382.0</td>\n",
       "      <td>...</td>\n",
       "      <td>4384530.0</td>\n",
       "      <td>-3292829.0</td>\n",
       "      <td>261.37</td>\n",
       "      <td>15242060.0</td>\n",
       "      <td>4.51</td>\n",
       "      <td>-18.36</td>\n",
       "      <td>-29858237.0</td>\n",
       "      <td>-75667307.0</td>\n",
       "      <td>1173191.0</td>\n",
       "      <td>0</td>\n",
       "    </tr>\n",
       "  </tbody>\n",
       "</table>\n",
       "<p>5 rows × 40 columns</p>\n",
       "</div>"
      ],
      "text/plain": [
       "                 HQ_city legal_struct  ateco_sector def_date  \\\n",
       "fs_year id                                                     \n",
       "2007    520288      28.0          SRL          14.0      NaT   \n",
       "        1650282     27.0          SRL          25.0      NaT   \n",
       "        2040061      6.0          SPA          46.0      NaT   \n",
       "        2340420     42.0          SRL          47.0      NaT   \n",
       "        2890408     40.0          SPA          43.0      NaT   \n",
       "\n",
       "                 asst_intang_fixed  asst_tang_fixed  asst_fixed_fin  \\\n",
       "fs_year id                                                            \n",
       "2007    520288            126603.0        1127807.0           620.0   \n",
       "        1650282           881316.0        1128642.0          8231.0   \n",
       "        2040061            23162.0        1524285.0             1.0   \n",
       "        2340420                0.0          58749.0             0.0   \n",
       "        2890408          2409029.0       31875124.0      59321193.0   \n",
       "\n",
       "                 asst_current          AR  cash_and_equiv  ...      taxes  \\\n",
       "fs_year id                                                 ...              \n",
       "2007    520288       484753.0    455224.0         14279.0  ...    92192.0   \n",
       "        1650282     9409128.0   7315239.0       2059048.0  ...   759122.0   \n",
       "        2040061     1410043.0    639403.0        225421.0  ...   198366.0   \n",
       "        2340420     1994918.0    747994.0         65405.0  ...    42062.0   \n",
       "        2890408   144525085.0  97473373.0       8899382.0  ...  4384530.0   \n",
       "\n",
       "                    profit  days_rec      ebitda   roa    roe      wc_net  \\\n",
       "fs_year id                                                                  \n",
       "2007    520288     36733.0       NaN    153060.0  6.20  52.43   -317007.0   \n",
       "        1650282   506075.0     -3.19   1097368.0  6.29  16.18   1584139.0   \n",
       "        2040061    74090.0    163.80    376754.0  8.45   7.22    373261.0   \n",
       "        2340420     7679.0       NaN     61648.0  2.17   0.73   1124550.0   \n",
       "        2890408 -3292829.0    261.37  15242060.0  4.51 -18.36 -29858237.0   \n",
       "\n",
       "                 margin_fin  cf_operations  target  \n",
       "fs_year id                                          \n",
       "2007    520288   -1184970.0        80039.0       0  \n",
       "        1650282   1108702.0       868088.0       0  \n",
       "        2040061   -521839.0       195790.0       0  \n",
       "        2340420    993363.0        24385.0       0  \n",
       "        2890408 -75667307.0      1173191.0       0  \n",
       "\n",
       "[5 rows x 40 columns]"
      ]
     },
     "execution_count": 6,
     "metadata": {},
     "output_type": "execute_result"
    }
   ],
   "source": [
    "dataset.head()"
   ]
  },
  {
   "cell_type": "code",
   "execution_count": 7,
   "id": "dd7bf9f1",
   "metadata": {},
   "outputs": [
    {
     "data": {
      "text/plain": [
       "fs_year  id         \n",
       "2007     520288         0\n",
       "         1650282        0\n",
       "         2040061        0\n",
       "         2340420        0\n",
       "         2890408        0\n",
       "                       ..\n",
       "2012     97696630017    0\n",
       "         98002050783    0\n",
       "         98002670176    0\n",
       "         98111210179    0\n",
       "         98111220178    0\n",
       "Name: target, Length: 1023552, dtype: int64"
      ]
     },
     "execution_count": 7,
     "metadata": {},
     "output_type": "execute_result"
    }
   ],
   "source": [
    "dataset['target']"
   ]
  },
  {
   "cell_type": "code",
   "execution_count": 8,
   "id": "05fe7dc3",
   "metadata": {},
   "outputs": [],
   "source": [
    "X = dataset.iloc[:,4:-1]\n",
    "y = dataset['target']"
   ]
  },
  {
   "cell_type": "code",
   "execution_count": 9,
   "id": "dc42685d",
   "metadata": {},
   "outputs": [
    {
     "name": "stderr",
     "output_type": "stream",
     "text": [
      "/Users/khevnaparikh/opt/anaconda3/lib/python3.9/site-packages/pandas/core/internals/blocks.py:402: RuntimeWarning: divide by zero encountered in log\n",
      "  result = func(self.values, **kwargs)\n",
      "/Users/khevnaparikh/opt/anaconda3/lib/python3.9/site-packages/pandas/core/internals/blocks.py:402: RuntimeWarning: invalid value encountered in log\n",
      "  result = func(self.values, **kwargs)\n"
     ]
    }
   ],
   "source": [
    "tmp = np.log(X)"
   ]
  },
  {
   "cell_type": "code",
   "execution_count": 10,
   "id": "95ed8286",
   "metadata": {},
   "outputs": [],
   "source": [
    "model = XGBClassifier().fit(X, y)"
   ]
  },
  {
   "cell_type": "code",
   "execution_count": 11,
   "id": "a19bbedb",
   "metadata": {},
   "outputs": [
    {
     "data": {
      "text/plain": [
       "array([0.01719602, 0.04019621, 0.01610622, 0.01459845, 0.02038657,\n",
       "       0.01545832, 0.01763894, 0.17341158, 0.01499201, 0.02054923,\n",
       "       0.02719268, 0.01615885, 0.00958269, 0.01151626, 0.01739936,\n",
       "       0.01268457, 0.01594928, 0.02113455, 0.01541776, 0.01401637,\n",
       "       0.01552432, 0.0160467 , 0.02015803, 0.01503719, 0.01302326,\n",
       "       0.01608853, 0.02341824, 0.01994713, 0.01354413, 0.03624264,\n",
       "       0.06027418, 0.16582595, 0.01668706, 0.01415938, 0.04243732],\n",
       "      dtype=float32)"
      ]
     },
     "execution_count": 11,
     "metadata": {},
     "output_type": "execute_result"
    }
   ],
   "source": [
    "model.feature_importances_"
   ]
  },
  {
   "cell_type": "code",
   "execution_count": 19,
   "id": "ae491594",
   "metadata": {},
   "outputs": [
    {
     "data": {
      "image/png": "[encoded data removed]",
      "text/plain": [
       "<Figure size 640x480 with 1 Axes>"
      ]
     },
     "metadata": {},
     "output_type": "display_data"
    },
    {
     "data": {
      "text/plain": [
       "<Figure size 2000x2000 with 0 Axes>"
      ]
     },
     "metadata": {},
     "output_type": "display_data"
    }
   ],
   "source": [
    "# plot\n",
    "plt.barh(X.columns, model.feature_importances_, )\n",
    "plt.title(\"Feature Importance\")\n",
    "plt.figure(figsize=(20, 20))\n",
    "plt.show()"
   ]
  },
  {
   "cell_type": "code",
   "execution_count": 49,
   "id": "c64e8916",
   "metadata": {},
   "outputs": [
    {
     "data": {
      "text/plain": [
       "Index(['asst_intang_fixed', 'asst_tang_fixed', 'asst_fixed_fin',\n",
       "       'asst_current', 'AR', 'cash_and_equiv', 'asst_tot', 'eqty_tot',\n",
       "       'liab_lt', 'liab_lt_emp', 'debt_bank_st', 'debt_bank_lt', 'debt_fin_st',\n",
       "       'debt_fin_lt', 'AP_st', 'AP_lt', 'debt_st', 'debt_lt', 'rev_operating',\n",
       "       'COGS', 'prof_operations', 'goodwill', 'inc_financing', 'exp_financing',\n",
       "       'prof_financing', 'inc_extraord', 'taxes', 'profit', 'days_rec',\n",
       "       'ebitda', 'roa', 'roe', 'wc_net', 'margin_fin', 'cf_operations'],\n",
       "      dtype='object')"
      ]
     },
     "execution_count": 49,
     "metadata": {},
     "output_type": "execute_result"
    }
   ],
   "source": [
    "X.columns"
   ]
  },
  {
   "cell_type": "code",
   "execution_count": null,
   "id": "9eb68ad8",
   "metadata": {},
   "outputs": [],
   "source": [
    "['cf_operations', 'roe', 'roa', 'ebitda', 'eqty_tot', 'asst_tang_fixed']"
   ]
  }
 ],
 "metadata": {
  "kernelspec": {
   "display_name": "Python 3 (ipykernel)",
   "language": "python",
   "name": "python3"
  },
  "language_info": {
   "codemirror_mode": {
    "name": "ipython",
    "version": 3
   },
   "file_extension": ".py",
   "mimetype": "text/x-python",
   "name": "python",
   "nbconvert_exporter": "python",
   "pygments_lexer": "ipython3",
   "version": "3.9.12"
  }
 },
 "nbformat": 4,
 "nbformat_minor": 5
}
